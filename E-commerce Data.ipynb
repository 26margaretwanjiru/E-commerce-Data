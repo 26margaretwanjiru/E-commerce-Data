{
 "cells": [
  {
   "cell_type": "markdown",
   "id": "67069780",
   "metadata": {},
   "source": [
    "# E-Commerce Data Analysis"
   ]
  },
  {
   "cell_type": "markdown",
   "id": "706d5962",
   "metadata": {},
   "source": [
    "# 1.0 Background"
   ]
  },
  {
   "cell_type": "markdown",
   "id": "1b82ba1f",
   "metadata": {},
   "source": [
    "According to statista.com(https://www.statista.com/topics/871/online-shopping/#topicOverview), over the last few years, e-commerce has become an indispensable part of global retail. Like many other industries, buying and selling goods has undergone a substantial transformation following the advent of the internet, and thanks to the ongoing digitalization of modern life, consumers all over the world now profit from the perks of online transactions. \n",
    "\n",
    "As global internet access and adoption rapidly increase, with over five billion internet users worldwide, the number of people making purchases online is ever-increasing. In 2022, retail e-commerce sales were estimated to exceed 5.7 trillion U.S. dollars worldwide, and this figure is expected to reach new heights in the coming years, the report further states.\n",
    "\n",
    "In terms of the leading internet and online services companies worldwide 2022, by market cap, Amazon is the biggest consumer internet and online service company worldwide with a market cap of approximately 857 billion U.S. dollars as of December 2022. Amazon was ranked first among selected online companies operating in the retail, real estate, mobility, travel and hospitality sectors. The digital commerce platform Alibaba.com ranked second with a market cap of 233 billion U.S. dollars."
   ]
  },
  {
   "cell_type": "markdown",
   "id": "82d033b8",
   "metadata": {},
   "source": [
    "# 2.0 Objectives"
   ]
  },
  {
   "cell_type": "markdown",
   "id": "c3ead9cd",
   "metadata": {},
   "source": [
    "The objectives of the analysis are; \n",
    "\n",
    "1. What are the sales figures for each country?\n",
    "2. What is the overall sales trend?\n",
    "3. How many new customers are there each month?\n",
    "4. When do customers make the most purchases?\n",
    "5. Which is the best selling product in each country?\n",
    "6. When were the largest orders made?\n",
    "7. Which customers made the largest orders?"
   ]
  },
  {
   "cell_type": "markdown",
   "id": "efe9dd58",
   "metadata": {},
   "source": [
    "# 3.0 Data Understanding "
   ]
  },
  {
   "cell_type": "markdown",
   "id": "1eb162ab",
   "metadata": {},
   "source": [
    "Context\n",
    "Typically e-commerce datasets are proprietary and consequently hard to find among publicly available data. However, The UCI Machine Learning Repository has made this dataset containing actual transactions from 2010 and 2011. The dataset is maintained on their site, where it can be found by the title \"Online Retail\".\n",
    "\n",
    "Content\n",
    "\"This is a transnational data set which contains all the transactions occurring between 01/12/2010 and 09/12/2011 for a UK-based and registered non-store online retail.The company mainly sells unique all-occasion gifts. Many customers of the company are wholesalers.\"\n",
    "\n",
    "Acknowledgements\n",
    "Per the UCI Machine Learning Repository, this data was made available by Dr Daqing Chen, Director: Public Analytics group. chend '@' lsbu.ac.uk, School of Engineering, London South Bank University, London SE1 0AA, UK.\n",
    "\n",
    "The data contains 541,910 rows and 8 columns. \n",
    "\n",
    "Variable Description\n",
    "\n",
    "InvoiceNo: Invoice number that consists 6 digits. If this code starts with letter 'c', it indicates a cancellation.\n",
    "StockCode: Product code that consists 5 digits.\n",
    "Description: Product name.\n",
    "Quantity: The quantities of each product per transaction.\n",
    "InvoiceDate: Represents the day and time when each transaction was generated.\n",
    "UnitPrice: Product price per unit.\n",
    "CustomerID: Customer number that consists 5 digits. Each customer has a unique customer ID.\n",
    "Country: Name of the country where each customer resides."
   ]
  },
  {
   "cell_type": "markdown",
   "id": "04873523",
   "metadata": {},
   "source": [
    "# 4.0 Analysis"
   ]
  },
  {
   "cell_type": "code",
   "execution_count": 56,
   "id": "8a73309e",
   "metadata": {},
   "outputs": [],
   "source": [
    "# Loading the required libraries\n",
    "# Data manipulation\n",
    "import pandas as pd\n",
    "import numpy as np\n",
    "\n",
    "# Data visualization\n",
    "import seaborn as sns\n",
    "import matplotlib.pyplot as plt\n",
    "\n",
    "# Time variables\n",
    "import calendar\n",
    "import datetime as dt\n",
    "\n",
    "%matplotlib inline"
   ]
  },
  {
   "cell_type": "code",
   "execution_count": 2,
   "id": "a6a00f03",
   "metadata": {},
   "outputs": [
    {
     "name": "stdout",
     "output_type": "stream",
     "text": [
      "<class 'pandas.core.frame.DataFrame'>\n",
      "RangeIndex: 541909 entries, 0 to 541908\n",
      "Data columns (total 8 columns):\n",
      " #   Column       Non-Null Count   Dtype  \n",
      "---  ------       --------------   -----  \n",
      " 0   InvoiceNo    541909 non-null  object \n",
      " 1   StockCode    541909 non-null  object \n",
      " 2   Description  540455 non-null  object \n",
      " 3   Quantity     541909 non-null  int64  \n",
      " 4   InvoiceDate  541909 non-null  object \n",
      " 5   UnitPrice    541909 non-null  float64\n",
      " 6   CustomerID   406829 non-null  float64\n",
      " 7   Country      541909 non-null  object \n",
      "dtypes: float64(2), int64(1), object(5)\n",
      "memory usage: 33.1+ MB\n"
     ]
    }
   ],
   "source": [
    "# Loading the data\n",
    "\n",
    "ecomm = pd.read_csv(\"C:/Users/kinyanjuim/Desktop/H2_Projects_2023/Ecommerce_Data/Edata.csv\", encoding='iso-8859-1')\n",
    "\n",
    "# Overview of data and missing values\n",
    "ecomm.info()"
   ]
  },
  {
   "cell_type": "code",
   "execution_count": 3,
   "id": "13998ddd",
   "metadata": {},
   "outputs": [
    {
     "data": {
      "text/html": [
       "<div>\n",
       "<style scoped>\n",
       "    .dataframe tbody tr th:only-of-type {\n",
       "        vertical-align: middle;\n",
       "    }\n",
       "\n",
       "    .dataframe tbody tr th {\n",
       "        vertical-align: top;\n",
       "    }\n",
       "\n",
       "    .dataframe thead th {\n",
       "        text-align: right;\n",
       "    }\n",
       "</style>\n",
       "<table border=\"1\" class=\"dataframe\">\n",
       "  <thead>\n",
       "    <tr style=\"text-align: right;\">\n",
       "      <th></th>\n",
       "      <th>InvoiceNo</th>\n",
       "      <th>StockCode</th>\n",
       "      <th>Description</th>\n",
       "      <th>Quantity</th>\n",
       "      <th>InvoiceDate</th>\n",
       "      <th>UnitPrice</th>\n",
       "      <th>CustomerID</th>\n",
       "      <th>Country</th>\n",
       "    </tr>\n",
       "  </thead>\n",
       "  <tbody>\n",
       "    <tr>\n",
       "      <th>0</th>\n",
       "      <td>536365</td>\n",
       "      <td>85123A</td>\n",
       "      <td>WHITE HANGING HEART T-LIGHT HOLDER</td>\n",
       "      <td>6</td>\n",
       "      <td>12/1/2010 8:26</td>\n",
       "      <td>2.55</td>\n",
       "      <td>17850.0</td>\n",
       "      <td>United Kingdom</td>\n",
       "    </tr>\n",
       "    <tr>\n",
       "      <th>1</th>\n",
       "      <td>536365</td>\n",
       "      <td>71053</td>\n",
       "      <td>WHITE METAL LANTERN</td>\n",
       "      <td>6</td>\n",
       "      <td>12/1/2010 8:26</td>\n",
       "      <td>3.39</td>\n",
       "      <td>17850.0</td>\n",
       "      <td>United Kingdom</td>\n",
       "    </tr>\n",
       "    <tr>\n",
       "      <th>2</th>\n",
       "      <td>536365</td>\n",
       "      <td>84406B</td>\n",
       "      <td>CREAM CUPID HEARTS COAT HANGER</td>\n",
       "      <td>8</td>\n",
       "      <td>12/1/2010 8:26</td>\n",
       "      <td>2.75</td>\n",
       "      <td>17850.0</td>\n",
       "      <td>United Kingdom</td>\n",
       "    </tr>\n",
       "    <tr>\n",
       "      <th>3</th>\n",
       "      <td>536365</td>\n",
       "      <td>84029G</td>\n",
       "      <td>KNITTED UNION FLAG HOT WATER BOTTLE</td>\n",
       "      <td>6</td>\n",
       "      <td>12/1/2010 8:26</td>\n",
       "      <td>3.39</td>\n",
       "      <td>17850.0</td>\n",
       "      <td>United Kingdom</td>\n",
       "    </tr>\n",
       "    <tr>\n",
       "      <th>4</th>\n",
       "      <td>536365</td>\n",
       "      <td>84029E</td>\n",
       "      <td>RED WOOLLY HOTTIE WHITE HEART.</td>\n",
       "      <td>6</td>\n",
       "      <td>12/1/2010 8:26</td>\n",
       "      <td>3.39</td>\n",
       "      <td>17850.0</td>\n",
       "      <td>United Kingdom</td>\n",
       "    </tr>\n",
       "  </tbody>\n",
       "</table>\n",
       "</div>"
      ],
      "text/plain": [
       "  InvoiceNo StockCode                          Description  Quantity  \\\n",
       "0    536365    85123A   WHITE HANGING HEART T-LIGHT HOLDER         6   \n",
       "1    536365     71053                  WHITE METAL LANTERN         6   \n",
       "2    536365    84406B       CREAM CUPID HEARTS COAT HANGER         8   \n",
       "3    536365    84029G  KNITTED UNION FLAG HOT WATER BOTTLE         6   \n",
       "4    536365    84029E       RED WOOLLY HOTTIE WHITE HEART.         6   \n",
       "\n",
       "      InvoiceDate  UnitPrice  CustomerID         Country  \n",
       "0  12/1/2010 8:26       2.55     17850.0  United Kingdom  \n",
       "1  12/1/2010 8:26       3.39     17850.0  United Kingdom  \n",
       "2  12/1/2010 8:26       2.75     17850.0  United Kingdom  \n",
       "3  12/1/2010 8:26       3.39     17850.0  United Kingdom  \n",
       "4  12/1/2010 8:26       3.39     17850.0  United Kingdom  "
      ]
     },
     "execution_count": 3,
     "metadata": {},
     "output_type": "execute_result"
    }
   ],
   "source": [
    "# First 5 rows of the data\n",
    "ecomm.head()"
   ]
  },
  {
   "cell_type": "code",
   "execution_count": 4,
   "id": "4e5387cd",
   "metadata": {},
   "outputs": [
    {
     "name": "stdout",
     "output_type": "stream",
     "text": [
      "WHITE HANGING HEART T-LIGHT HOLDER     2369\n",
      "REGENCY CAKESTAND 3 TIER               2200\n",
      "JUMBO BAG RED RETROSPOT                2159\n",
      "PARTY BUNTING                          1727\n",
      "LUNCH BAG RED RETROSPOT                1638\n",
      "                                       ... \n",
      "Missing                                   1\n",
      "historic computer difference?....se       1\n",
      "DUSTY PINK CHRISTMAS TREE 30CM            1\n",
      "WRAP BLUE RUSSIAN FOLKART                 1\n",
      "PINK BERTIE MOBILE PHONE CHARM            1\n",
      "Name: Description, Length: 4223, dtype: int64 United Kingdom          495478\n",
      "Germany                   9495\n",
      "France                    8557\n",
      "EIRE                      8196\n",
      "Spain                     2533\n",
      "Netherlands               2371\n",
      "Belgium                   2069\n",
      "Switzerland               2002\n",
      "Portugal                  1519\n",
      "Australia                 1259\n",
      "Norway                    1086\n",
      "Italy                      803\n",
      "Channel Islands            758\n",
      "Finland                    695\n",
      "Cyprus                     622\n",
      "Sweden                     462\n",
      "Unspecified                446\n",
      "Austria                    401\n",
      "Denmark                    389\n",
      "Japan                      358\n",
      "Poland                     341\n",
      "Israel                     297\n",
      "USA                        291\n",
      "Hong Kong                  288\n",
      "Singapore                  229\n",
      "Iceland                    182\n",
      "Canada                     151\n",
      "Greece                     146\n",
      "Malta                      127\n",
      "United Arab Emirates        68\n",
      "European Community          61\n",
      "RSA                         58\n",
      "Lebanon                     45\n",
      "Lithuania                   35\n",
      "Brazil                      32\n",
      "Czech Republic              30\n",
      "Bahrain                     19\n",
      "Saudi Arabia                10\n",
      "Name: Country, dtype: int64\n"
     ]
    }
   ],
   "source": [
    "# Category count of the object types\n",
    "\n",
    "a = ecomm['Description'].value_counts()\n",
    "b = ecomm['Country'].value_counts()\n",
    " \n",
    "print(a, b)"
   ]
  },
  {
   "cell_type": "code",
   "execution_count": 5,
   "id": "14e5e30d",
   "metadata": {},
   "outputs": [
    {
     "name": "stdout",
     "output_type": "stream",
     "text": [
      "InvoiceNo           0\n",
      "StockCode           0\n",
      "Description      1454\n",
      "Quantity            0\n",
      "InvoiceDate         0\n",
      "UnitPrice           0\n",
      "CustomerID     135080\n",
      "Country             0\n",
      "dtype: int64\n"
     ]
    }
   ],
   "source": [
    "# Missing Values\n",
    "missing_values = ecomm.isnull().sum()\n",
    "print(missing_values)"
   ]
  },
  {
   "cell_type": "code",
   "execution_count": 6,
   "id": "762659f0",
   "metadata": {},
   "outputs": [
    {
     "name": "stdout",
     "output_type": "stream",
     "text": [
      "<class 'pandas.core.frame.DataFrame'>\n",
      "Int64Index: 406829 entries, 0 to 541908\n",
      "Data columns (total 8 columns):\n",
      " #   Column       Non-Null Count   Dtype  \n",
      "---  ------       --------------   -----  \n",
      " 0   InvoiceNo    406829 non-null  object \n",
      " 1   StockCode    406829 non-null  object \n",
      " 2   Description  406829 non-null  object \n",
      " 3   Quantity     406829 non-null  int64  \n",
      " 4   InvoiceDate  406829 non-null  object \n",
      " 5   UnitPrice    406829 non-null  float64\n",
      " 6   CustomerID   406829 non-null  float64\n",
      " 7   Country      406829 non-null  object \n",
      "dtypes: float64(2), int64(1), object(5)\n",
      "memory usage: 27.9+ MB\n"
     ]
    }
   ],
   "source": [
    "# Dealing with missing values\n",
    "# Drop as we can't replace customer IDs; unique\n",
    "ecomm2 = ecomm.dropna()\n",
    "ecomm2.info()"
   ]
  },
  {
   "cell_type": "code",
   "execution_count": 7,
   "id": "5d030303",
   "metadata": {},
   "outputs": [
    {
     "data": {
      "text/plain": [
       "22190"
      ]
     },
     "execution_count": 7,
     "metadata": {},
     "output_type": "execute_result"
    }
   ],
   "source": [
    "# Uniqueness in invoice numbers and stock code\n",
    "# Unique values are those that appear in the data once\n",
    "\n",
    "ecomm2.InvoiceNo.nunique()"
   ]
  },
  {
   "cell_type": "code",
   "execution_count": 8,
   "id": "fb57a606",
   "metadata": {},
   "outputs": [
    {
     "data": {
      "text/plain": [
       "3684"
      ]
     },
     "execution_count": 8,
     "metadata": {},
     "output_type": "execute_result"
    }
   ],
   "source": [
    "ecomm2.StockCode.nunique()"
   ]
  },
  {
   "cell_type": "code",
   "execution_count": 9,
   "id": "c3ddfe9b",
   "metadata": {},
   "outputs": [
    {
     "name": "stdout",
     "output_type": "stream",
     "text": [
      "Duplicate Rows :\n"
     ]
    },
    {
     "data": {
      "text/html": [
       "<div>\n",
       "<style scoped>\n",
       "    .dataframe tbody tr th:only-of-type {\n",
       "        vertical-align: middle;\n",
       "    }\n",
       "\n",
       "    .dataframe tbody tr th {\n",
       "        vertical-align: top;\n",
       "    }\n",
       "\n",
       "    .dataframe thead th {\n",
       "        text-align: right;\n",
       "    }\n",
       "</style>\n",
       "<table border=\"1\" class=\"dataframe\">\n",
       "  <thead>\n",
       "    <tr style=\"text-align: right;\">\n",
       "      <th></th>\n",
       "      <th>InvoiceNo</th>\n",
       "      <th>StockCode</th>\n",
       "      <th>Description</th>\n",
       "      <th>Quantity</th>\n",
       "      <th>InvoiceDate</th>\n",
       "      <th>UnitPrice</th>\n",
       "      <th>CustomerID</th>\n",
       "      <th>Country</th>\n",
       "    </tr>\n",
       "  </thead>\n",
       "  <tbody>\n",
       "    <tr>\n",
       "      <th>517</th>\n",
       "      <td>536409</td>\n",
       "      <td>21866</td>\n",
       "      <td>UNION JACK FLAG LUGGAGE TAG</td>\n",
       "      <td>1</td>\n",
       "      <td>12/1/2010 11:45</td>\n",
       "      <td>1.25</td>\n",
       "      <td>17908.0</td>\n",
       "      <td>United Kingdom</td>\n",
       "    </tr>\n",
       "    <tr>\n",
       "      <th>527</th>\n",
       "      <td>536409</td>\n",
       "      <td>22866</td>\n",
       "      <td>HAND WARMER SCOTTY DOG DESIGN</td>\n",
       "      <td>1</td>\n",
       "      <td>12/1/2010 11:45</td>\n",
       "      <td>2.10</td>\n",
       "      <td>17908.0</td>\n",
       "      <td>United Kingdom</td>\n",
       "    </tr>\n",
       "    <tr>\n",
       "      <th>537</th>\n",
       "      <td>536409</td>\n",
       "      <td>22900</td>\n",
       "      <td>SET 2 TEA TOWELS I LOVE LONDON</td>\n",
       "      <td>1</td>\n",
       "      <td>12/1/2010 11:45</td>\n",
       "      <td>2.95</td>\n",
       "      <td>17908.0</td>\n",
       "      <td>United Kingdom</td>\n",
       "    </tr>\n",
       "    <tr>\n",
       "      <th>539</th>\n",
       "      <td>536409</td>\n",
       "      <td>22111</td>\n",
       "      <td>SCOTTIE DOG HOT WATER BOTTLE</td>\n",
       "      <td>1</td>\n",
       "      <td>12/1/2010 11:45</td>\n",
       "      <td>4.95</td>\n",
       "      <td>17908.0</td>\n",
       "      <td>United Kingdom</td>\n",
       "    </tr>\n",
       "    <tr>\n",
       "      <th>555</th>\n",
       "      <td>536412</td>\n",
       "      <td>22327</td>\n",
       "      <td>ROUND SNACK BOXES SET OF 4 SKULLS</td>\n",
       "      <td>1</td>\n",
       "      <td>12/1/2010 11:49</td>\n",
       "      <td>2.95</td>\n",
       "      <td>17920.0</td>\n",
       "      <td>United Kingdom</td>\n",
       "    </tr>\n",
       "    <tr>\n",
       "      <th>...</th>\n",
       "      <td>...</td>\n",
       "      <td>...</td>\n",
       "      <td>...</td>\n",
       "      <td>...</td>\n",
       "      <td>...</td>\n",
       "      <td>...</td>\n",
       "      <td>...</td>\n",
       "      <td>...</td>\n",
       "    </tr>\n",
       "    <tr>\n",
       "      <th>541675</th>\n",
       "      <td>581538</td>\n",
       "      <td>22068</td>\n",
       "      <td>BLACK PIRATE TREASURE CHEST</td>\n",
       "      <td>1</td>\n",
       "      <td>12/9/2011 11:34</td>\n",
       "      <td>0.39</td>\n",
       "      <td>14446.0</td>\n",
       "      <td>United Kingdom</td>\n",
       "    </tr>\n",
       "    <tr>\n",
       "      <th>541689</th>\n",
       "      <td>581538</td>\n",
       "      <td>23318</td>\n",
       "      <td>BOX OF 6 MINI VINTAGE CRACKERS</td>\n",
       "      <td>1</td>\n",
       "      <td>12/9/2011 11:34</td>\n",
       "      <td>2.49</td>\n",
       "      <td>14446.0</td>\n",
       "      <td>United Kingdom</td>\n",
       "    </tr>\n",
       "    <tr>\n",
       "      <th>541692</th>\n",
       "      <td>581538</td>\n",
       "      <td>22992</td>\n",
       "      <td>REVOLVER WOODEN RULER</td>\n",
       "      <td>1</td>\n",
       "      <td>12/9/2011 11:34</td>\n",
       "      <td>1.95</td>\n",
       "      <td>14446.0</td>\n",
       "      <td>United Kingdom</td>\n",
       "    </tr>\n",
       "    <tr>\n",
       "      <th>541699</th>\n",
       "      <td>581538</td>\n",
       "      <td>22694</td>\n",
       "      <td>WICKER STAR</td>\n",
       "      <td>1</td>\n",
       "      <td>12/9/2011 11:34</td>\n",
       "      <td>2.10</td>\n",
       "      <td>14446.0</td>\n",
       "      <td>United Kingdom</td>\n",
       "    </tr>\n",
       "    <tr>\n",
       "      <th>541701</th>\n",
       "      <td>581538</td>\n",
       "      <td>23343</td>\n",
       "      <td>JUMBO BAG VINTAGE CHRISTMAS</td>\n",
       "      <td>1</td>\n",
       "      <td>12/9/2011 11:34</td>\n",
       "      <td>2.08</td>\n",
       "      <td>14446.0</td>\n",
       "      <td>United Kingdom</td>\n",
       "    </tr>\n",
       "  </tbody>\n",
       "</table>\n",
       "<p>5225 rows × 8 columns</p>\n",
       "</div>"
      ],
      "text/plain": [
       "       InvoiceNo StockCode                        Description  Quantity  \\\n",
       "517       536409     21866        UNION JACK FLAG LUGGAGE TAG         1   \n",
       "527       536409     22866      HAND WARMER SCOTTY DOG DESIGN         1   \n",
       "537       536409     22900    SET 2 TEA TOWELS I LOVE LONDON          1   \n",
       "539       536409     22111       SCOTTIE DOG HOT WATER BOTTLE         1   \n",
       "555       536412     22327  ROUND SNACK BOXES SET OF 4 SKULLS         1   \n",
       "...          ...       ...                                ...       ...   \n",
       "541675    581538     22068        BLACK PIRATE TREASURE CHEST         1   \n",
       "541689    581538     23318     BOX OF 6 MINI VINTAGE CRACKERS         1   \n",
       "541692    581538     22992             REVOLVER WOODEN RULER          1   \n",
       "541699    581538     22694                       WICKER STAR          1   \n",
       "541701    581538     23343       JUMBO BAG VINTAGE CHRISTMAS          1   \n",
       "\n",
       "            InvoiceDate  UnitPrice  CustomerID         Country  \n",
       "517     12/1/2010 11:45       1.25     17908.0  United Kingdom  \n",
       "527     12/1/2010 11:45       2.10     17908.0  United Kingdom  \n",
       "537     12/1/2010 11:45       2.95     17908.0  United Kingdom  \n",
       "539     12/1/2010 11:45       4.95     17908.0  United Kingdom  \n",
       "555     12/1/2010 11:49       2.95     17920.0  United Kingdom  \n",
       "...                 ...        ...         ...             ...  \n",
       "541675  12/9/2011 11:34       0.39     14446.0  United Kingdom  \n",
       "541689  12/9/2011 11:34       2.49     14446.0  United Kingdom  \n",
       "541692  12/9/2011 11:34       1.95     14446.0  United Kingdom  \n",
       "541699  12/9/2011 11:34       2.10     14446.0  United Kingdom  \n",
       "541701  12/9/2011 11:34       2.08     14446.0  United Kingdom  \n",
       "\n",
       "[5225 rows x 8 columns]"
      ]
     },
     "execution_count": 9,
     "metadata": {},
     "output_type": "execute_result"
    }
   ],
   "source": [
    "# Selecting duplicate rows except first\n",
    "# occurrence based on all columns\n",
    "duplicate = ecomm2[ecomm2.duplicated()]\n",
    " \n",
    "print(\"Duplicate Rows :\")\n",
    " \n",
    "# Print the resultant Dataframe\n",
    "duplicate"
   ]
  },
  {
   "cell_type": "code",
   "execution_count": 10,
   "id": "e855b534",
   "metadata": {},
   "outputs": [
    {
     "name": "stdout",
     "output_type": "stream",
     "text": [
      "<class 'pandas.core.frame.DataFrame'>\n",
      "Int64Index: 401604 entries, 0 to 541908\n",
      "Data columns (total 8 columns):\n",
      " #   Column       Non-Null Count   Dtype  \n",
      "---  ------       --------------   -----  \n",
      " 0   InvoiceNo    401604 non-null  object \n",
      " 1   StockCode    401604 non-null  object \n",
      " 2   Description  401604 non-null  object \n",
      " 3   Quantity     401604 non-null  int64  \n",
      " 4   InvoiceDate  401604 non-null  object \n",
      " 5   UnitPrice    401604 non-null  float64\n",
      " 6   CustomerID   401604 non-null  float64\n",
      " 7   Country      401604 non-null  object \n",
      "dtypes: float64(2), int64(1), object(5)\n",
      "memory usage: 27.6+ MB\n"
     ]
    }
   ],
   "source": [
    "# Using DataFrame.drop_duplicates() to keep first duplicate row\n",
    "ecomm3 = ecomm2.drop_duplicates(keep='first')\n",
    "ecomm3.info()"
   ]
  },
  {
   "cell_type": "code",
   "execution_count": 11,
   "id": "f195f65b",
   "metadata": {},
   "outputs": [
    {
     "name": "stderr",
     "output_type": "stream",
     "text": [
      "C:\\Users\\kinyanjuim\\AppData\\Local\\Temp\\ipykernel_1324\\348064422.py:2: SettingWithCopyWarning: \n",
      "A value is trying to be set on a copy of a slice from a DataFrame.\n",
      "Try using .loc[row_indexer,col_indexer] = value instead\n",
      "\n",
      "See the caveats in the documentation: https://pandas.pydata.org/pandas-docs/stable/user_guide/indexing.html#returning-a-view-versus-a-copy\n",
      "  ecomm3['Total Price'] = ecomm3['Quantity']*ecomm3['UnitPrice']\n"
     ]
    },
    {
     "name": "stdout",
     "output_type": "stream",
     "text": [
      "<class 'pandas.core.frame.DataFrame'>\n",
      "Int64Index: 401604 entries, 0 to 541908\n",
      "Data columns (total 9 columns):\n",
      " #   Column       Non-Null Count   Dtype  \n",
      "---  ------       --------------   -----  \n",
      " 0   InvoiceNo    401604 non-null  object \n",
      " 1   StockCode    401604 non-null  object \n",
      " 2   Description  401604 non-null  object \n",
      " 3   Quantity     401604 non-null  int64  \n",
      " 4   InvoiceDate  401604 non-null  object \n",
      " 5   UnitPrice    401604 non-null  float64\n",
      " 6   CustomerID   401604 non-null  float64\n",
      " 7   Country      401604 non-null  object \n",
      " 8   Total Price  401604 non-null  float64\n",
      "dtypes: float64(3), int64(1), object(5)\n",
      "memory usage: 30.6+ MB\n"
     ]
    }
   ],
   "source": [
    "# Create a new column\n",
    "ecomm3['Total Price'] = ecomm3['Quantity']*ecomm3['UnitPrice']\n",
    "ecomm3.info()"
   ]
  },
  {
   "cell_type": "code",
   "execution_count": 12,
   "id": "ce308cf5",
   "metadata": {},
   "outputs": [
    {
     "name": "stderr",
     "output_type": "stream",
     "text": [
      "C:\\Users\\kinyanjuim\\AppData\\Local\\Temp\\ipykernel_1324\\941502115.py:2: SettingWithCopyWarning: \n",
      "A value is trying to be set on a copy of a slice from a DataFrame.\n",
      "Try using .loc[row_indexer,col_indexer] = value instead\n",
      "\n",
      "See the caveats in the documentation: https://pandas.pydata.org/pandas-docs/stable/user_guide/indexing.html#returning-a-view-versus-a-copy\n",
      "  ecomm3['ModifiedDate'] = pd.to_datetime(ecomm3['InvoiceDate'])\n"
     ]
    },
    {
     "name": "stdout",
     "output_type": "stream",
     "text": [
      "<class 'pandas.core.frame.DataFrame'>\n",
      "Int64Index: 401604 entries, 0 to 541908\n",
      "Data columns (total 10 columns):\n",
      " #   Column        Non-Null Count   Dtype         \n",
      "---  ------        --------------   -----         \n",
      " 0   InvoiceNo     401604 non-null  object        \n",
      " 1   StockCode     401604 non-null  object        \n",
      " 2   Description   401604 non-null  object        \n",
      " 3   Quantity      401604 non-null  int64         \n",
      " 4   InvoiceDate   401604 non-null  object        \n",
      " 5   UnitPrice     401604 non-null  float64       \n",
      " 6   CustomerID    401604 non-null  float64       \n",
      " 7   Country       401604 non-null  object        \n",
      " 8   Total Price   401604 non-null  float64       \n",
      " 9   ModifiedDate  401604 non-null  datetime64[ns]\n",
      "dtypes: datetime64[ns](1), float64(3), int64(1), object(5)\n",
      "memory usage: 33.7+ MB\n"
     ]
    }
   ],
   "source": [
    "# Splitting invoice date to year, month, and time\n",
    "ecomm3['ModifiedDate'] = pd.to_datetime(ecomm3['InvoiceDate'])\n",
    "ecomm3.info()"
   ]
  },
  {
   "cell_type": "code",
   "execution_count": 13,
   "id": "71e67410",
   "metadata": {},
   "outputs": [
    {
     "name": "stderr",
     "output_type": "stream",
     "text": [
      "C:\\Users\\kinyanjuim\\AppData\\Local\\Temp\\ipykernel_1324\\2505806733.py:2: SettingWithCopyWarning: \n",
      "A value is trying to be set on a copy of a slice from a DataFrame.\n",
      "Try using .loc[row_indexer,col_indexer] = value instead\n",
      "\n",
      "See the caveats in the documentation: https://pandas.pydata.org/pandas-docs/stable/user_guide/indexing.html#returning-a-view-versus-a-copy\n",
      "  ecomm3['year'] = ecomm3['ModifiedDate'].dt.year\n",
      "C:\\Users\\kinyanjuim\\AppData\\Local\\Temp\\ipykernel_1324\\2505806733.py:3: SettingWithCopyWarning: \n",
      "A value is trying to be set on a copy of a slice from a DataFrame.\n",
      "Try using .loc[row_indexer,col_indexer] = value instead\n",
      "\n",
      "See the caveats in the documentation: https://pandas.pydata.org/pandas-docs/stable/user_guide/indexing.html#returning-a-view-versus-a-copy\n",
      "  ecomm3['month'] = ecomm3['ModifiedDate'].dt.month\n",
      "C:\\Users\\kinyanjuim\\AppData\\Local\\Temp\\ipykernel_1324\\2505806733.py:4: SettingWithCopyWarning: \n",
      "A value is trying to be set on a copy of a slice from a DataFrame.\n",
      "Try using .loc[row_indexer,col_indexer] = value instead\n",
      "\n",
      "See the caveats in the documentation: https://pandas.pydata.org/pandas-docs/stable/user_guide/indexing.html#returning-a-view-versus-a-copy\n",
      "  ecomm3['day'] = ecomm3['ModifiedDate'].dt.day\n",
      "C:\\Users\\kinyanjuim\\AppData\\Local\\Temp\\ipykernel_1324\\2505806733.py:5: SettingWithCopyWarning: \n",
      "A value is trying to be set on a copy of a slice from a DataFrame.\n",
      "Try using .loc[row_indexer,col_indexer] = value instead\n",
      "\n",
      "See the caveats in the documentation: https://pandas.pydata.org/pandas-docs/stable/user_guide/indexing.html#returning-a-view-versus-a-copy\n",
      "  ecomm3['time'] = ecomm3['ModifiedDate'].dt.time\n"
     ]
    },
    {
     "name": "stdout",
     "output_type": "stream",
     "text": [
      "<class 'pandas.core.frame.DataFrame'>\n",
      "Int64Index: 401604 entries, 0 to 541908\n",
      "Data columns (total 14 columns):\n",
      " #   Column        Non-Null Count   Dtype         \n",
      "---  ------        --------------   -----         \n",
      " 0   InvoiceNo     401604 non-null  object        \n",
      " 1   StockCode     401604 non-null  object        \n",
      " 2   Description   401604 non-null  object        \n",
      " 3   Quantity      401604 non-null  int64         \n",
      " 4   InvoiceDate   401604 non-null  object        \n",
      " 5   UnitPrice     401604 non-null  float64       \n",
      " 6   CustomerID    401604 non-null  float64       \n",
      " 7   Country       401604 non-null  object        \n",
      " 8   Total Price   401604 non-null  float64       \n",
      " 9   ModifiedDate  401604 non-null  datetime64[ns]\n",
      " 10  year          401604 non-null  int64         \n",
      " 11  month         401604 non-null  int64         \n",
      " 12  day           401604 non-null  int64         \n",
      " 13  time          401604 non-null  object        \n",
      "dtypes: datetime64[ns](1), float64(3), int64(4), object(6)\n",
      "memory usage: 46.0+ MB\n"
     ]
    }
   ],
   "source": [
    "# Extracting some columns in date column\n",
    "ecomm3['year'] = ecomm3['ModifiedDate'].dt.year\n",
    "ecomm3['month'] = ecomm3['ModifiedDate'].dt.month\n",
    "ecomm3['day'] = ecomm3['ModifiedDate'].dt.day\n",
    "ecomm3['time'] = ecomm3['ModifiedDate'].dt.time\n",
    "\n",
    "ecomm3.info()\n"
   ]
  },
  {
   "cell_type": "code",
   "execution_count": 14,
   "id": "de544ee6",
   "metadata": {},
   "outputs": [
    {
     "data": {
      "text/html": [
       "<div>\n",
       "<style scoped>\n",
       "    .dataframe tbody tr th:only-of-type {\n",
       "        vertical-align: middle;\n",
       "    }\n",
       "\n",
       "    .dataframe tbody tr th {\n",
       "        vertical-align: top;\n",
       "    }\n",
       "\n",
       "    .dataframe thead th {\n",
       "        text-align: right;\n",
       "    }\n",
       "</style>\n",
       "<table border=\"1\" class=\"dataframe\">\n",
       "  <thead>\n",
       "    <tr style=\"text-align: right;\">\n",
       "      <th></th>\n",
       "      <th>InvoiceNo</th>\n",
       "      <th>StockCode</th>\n",
       "      <th>Description</th>\n",
       "      <th>Quantity</th>\n",
       "      <th>InvoiceDate</th>\n",
       "      <th>UnitPrice</th>\n",
       "      <th>CustomerID</th>\n",
       "      <th>Country</th>\n",
       "      <th>Total Price</th>\n",
       "      <th>ModifiedDate</th>\n",
       "      <th>year</th>\n",
       "      <th>month</th>\n",
       "      <th>day</th>\n",
       "      <th>time</th>\n",
       "    </tr>\n",
       "  </thead>\n",
       "  <tbody>\n",
       "    <tr>\n",
       "      <th>0</th>\n",
       "      <td>536365</td>\n",
       "      <td>85123A</td>\n",
       "      <td>WHITE HANGING HEART T-LIGHT HOLDER</td>\n",
       "      <td>6</td>\n",
       "      <td>12/1/2010 8:26</td>\n",
       "      <td>2.55</td>\n",
       "      <td>17850.0</td>\n",
       "      <td>United Kingdom</td>\n",
       "      <td>15.30</td>\n",
       "      <td>2010-12-01 08:26:00</td>\n",
       "      <td>2010</td>\n",
       "      <td>12</td>\n",
       "      <td>1</td>\n",
       "      <td>08:26:00</td>\n",
       "    </tr>\n",
       "    <tr>\n",
       "      <th>1</th>\n",
       "      <td>536365</td>\n",
       "      <td>71053</td>\n",
       "      <td>WHITE METAL LANTERN</td>\n",
       "      <td>6</td>\n",
       "      <td>12/1/2010 8:26</td>\n",
       "      <td>3.39</td>\n",
       "      <td>17850.0</td>\n",
       "      <td>United Kingdom</td>\n",
       "      <td>20.34</td>\n",
       "      <td>2010-12-01 08:26:00</td>\n",
       "      <td>2010</td>\n",
       "      <td>12</td>\n",
       "      <td>1</td>\n",
       "      <td>08:26:00</td>\n",
       "    </tr>\n",
       "    <tr>\n",
       "      <th>2</th>\n",
       "      <td>536365</td>\n",
       "      <td>84406B</td>\n",
       "      <td>CREAM CUPID HEARTS COAT HANGER</td>\n",
       "      <td>8</td>\n",
       "      <td>12/1/2010 8:26</td>\n",
       "      <td>2.75</td>\n",
       "      <td>17850.0</td>\n",
       "      <td>United Kingdom</td>\n",
       "      <td>22.00</td>\n",
       "      <td>2010-12-01 08:26:00</td>\n",
       "      <td>2010</td>\n",
       "      <td>12</td>\n",
       "      <td>1</td>\n",
       "      <td>08:26:00</td>\n",
       "    </tr>\n",
       "    <tr>\n",
       "      <th>3</th>\n",
       "      <td>536365</td>\n",
       "      <td>84029G</td>\n",
       "      <td>KNITTED UNION FLAG HOT WATER BOTTLE</td>\n",
       "      <td>6</td>\n",
       "      <td>12/1/2010 8:26</td>\n",
       "      <td>3.39</td>\n",
       "      <td>17850.0</td>\n",
       "      <td>United Kingdom</td>\n",
       "      <td>20.34</td>\n",
       "      <td>2010-12-01 08:26:00</td>\n",
       "      <td>2010</td>\n",
       "      <td>12</td>\n",
       "      <td>1</td>\n",
       "      <td>08:26:00</td>\n",
       "    </tr>\n",
       "    <tr>\n",
       "      <th>4</th>\n",
       "      <td>536365</td>\n",
       "      <td>84029E</td>\n",
       "      <td>RED WOOLLY HOTTIE WHITE HEART.</td>\n",
       "      <td>6</td>\n",
       "      <td>12/1/2010 8:26</td>\n",
       "      <td>3.39</td>\n",
       "      <td>17850.0</td>\n",
       "      <td>United Kingdom</td>\n",
       "      <td>20.34</td>\n",
       "      <td>2010-12-01 08:26:00</td>\n",
       "      <td>2010</td>\n",
       "      <td>12</td>\n",
       "      <td>1</td>\n",
       "      <td>08:26:00</td>\n",
       "    </tr>\n",
       "  </tbody>\n",
       "</table>\n",
       "</div>"
      ],
      "text/plain": [
       "  InvoiceNo StockCode                          Description  Quantity  \\\n",
       "0    536365    85123A   WHITE HANGING HEART T-LIGHT HOLDER         6   \n",
       "1    536365     71053                  WHITE METAL LANTERN         6   \n",
       "2    536365    84406B       CREAM CUPID HEARTS COAT HANGER         8   \n",
       "3    536365    84029G  KNITTED UNION FLAG HOT WATER BOTTLE         6   \n",
       "4    536365    84029E       RED WOOLLY HOTTIE WHITE HEART.         6   \n",
       "\n",
       "      InvoiceDate  UnitPrice  CustomerID         Country  Total Price  \\\n",
       "0  12/1/2010 8:26       2.55     17850.0  United Kingdom        15.30   \n",
       "1  12/1/2010 8:26       3.39     17850.0  United Kingdom        20.34   \n",
       "2  12/1/2010 8:26       2.75     17850.0  United Kingdom        22.00   \n",
       "3  12/1/2010 8:26       3.39     17850.0  United Kingdom        20.34   \n",
       "4  12/1/2010 8:26       3.39     17850.0  United Kingdom        20.34   \n",
       "\n",
       "         ModifiedDate  year  month  day      time  \n",
       "0 2010-12-01 08:26:00  2010     12    1  08:26:00  \n",
       "1 2010-12-01 08:26:00  2010     12    1  08:26:00  \n",
       "2 2010-12-01 08:26:00  2010     12    1  08:26:00  \n",
       "3 2010-12-01 08:26:00  2010     12    1  08:26:00  \n",
       "4 2010-12-01 08:26:00  2010     12    1  08:26:00  "
      ]
     },
     "execution_count": 14,
     "metadata": {},
     "output_type": "execute_result"
    }
   ],
   "source": [
    "ecomm3.head()"
   ]
  },
  {
   "cell_type": "markdown",
   "id": "4748f94d",
   "metadata": {},
   "source": [
    "# 5.0 Exploring Distributions"
   ]
  },
  {
   "cell_type": "code",
   "execution_count": 15,
   "id": "914aa3bb",
   "metadata": {},
   "outputs": [
    {
     "name": "stdout",
     "output_type": "stream",
     "text": [
      "<class 'pandas.core.frame.DataFrame'>\n",
      "Int64Index: 392732 entries, 0 to 541908\n",
      "Data columns (total 14 columns):\n",
      " #   Column        Non-Null Count   Dtype         \n",
      "---  ------        --------------   -----         \n",
      " 0   InvoiceNo     392732 non-null  object        \n",
      " 1   StockCode     392732 non-null  object        \n",
      " 2   Description   392732 non-null  object        \n",
      " 3   Quantity      392732 non-null  int64         \n",
      " 4   InvoiceDate   392732 non-null  object        \n",
      " 5   UnitPrice     392732 non-null  float64       \n",
      " 6   CustomerID    392732 non-null  float64       \n",
      " 7   Country       392732 non-null  object        \n",
      " 8   Total Price   392732 non-null  float64       \n",
      " 9   ModifiedDate  392732 non-null  datetime64[ns]\n",
      " 10  year          392732 non-null  int64         \n",
      " 11  month         392732 non-null  int64         \n",
      " 12  day           392732 non-null  int64         \n",
      " 13  time          392732 non-null  object        \n",
      "dtypes: datetime64[ns](1), float64(3), int64(4), object(6)\n",
      "memory usage: 44.9+ MB\n"
     ]
    }
   ],
   "source": [
    "# Omit negative values in quantity\n",
    "ecomm3 = ecomm3[ecomm3.Quantity>0]\n",
    "ecomm3.info()"
   ]
  },
  {
   "cell_type": "code",
   "execution_count": 16,
   "id": "e27bf8e7",
   "metadata": {},
   "outputs": [
    {
     "data": {
      "image/png": "[encoded data removed]",
      "text/plain": [
       "<Figure size 640x480 with 1 Axes>"
      ]
     },
     "metadata": {},
     "output_type": "display_data"
    }
   ],
   "source": [
    "# Histogram of TotalPrice\n",
    "\n",
    "plt.hist(ecomm3['Total Price'], bins = 10, color = \"purple\", edgecolor = 'black')\n",
    "\n",
    "plt.xlabel('Total Price')\n",
    "plt.ylabel('Frequency of Values')\n",
    "plt.title('Histogram of Total Price')\n",
    "\n",
    "# Mean of Sale Price\n",
    "plt.axvline(ecomm3['Total Price'].mean(), color = \"black\", linewidth = 2)\n",
    "plt.show()"
   ]
  },
  {
   "cell_type": "code",
   "execution_count": 17,
   "id": "63140ee2",
   "metadata": {},
   "outputs": [
    {
     "data": {
      "text/html": [
       "<div>\n",
       "<style scoped>\n",
       "    .dataframe tbody tr th:only-of-type {\n",
       "        vertical-align: middle;\n",
       "    }\n",
       "\n",
       "    .dataframe tbody tr th {\n",
       "        vertical-align: top;\n",
       "    }\n",
       "\n",
       "    .dataframe thead th {\n",
       "        text-align: right;\n",
       "    }\n",
       "</style>\n",
       "<table border=\"1\" class=\"dataframe\">\n",
       "  <thead>\n",
       "    <tr style=\"text-align: right;\">\n",
       "      <th></th>\n",
       "      <th>CustomerID</th>\n",
       "      <th>Country</th>\n",
       "      <th>InvoiceNo</th>\n",
       "    </tr>\n",
       "  </thead>\n",
       "  <tbody>\n",
       "    <tr>\n",
       "      <th>0</th>\n",
       "      <td>12346.0</td>\n",
       "      <td>United Kingdom</td>\n",
       "      <td>1</td>\n",
       "    </tr>\n",
       "    <tr>\n",
       "      <th>1</th>\n",
       "      <td>12347.0</td>\n",
       "      <td>Iceland</td>\n",
       "      <td>182</td>\n",
       "    </tr>\n",
       "    <tr>\n",
       "      <th>2</th>\n",
       "      <td>12348.0</td>\n",
       "      <td>Finland</td>\n",
       "      <td>31</td>\n",
       "    </tr>\n",
       "    <tr>\n",
       "      <th>3</th>\n",
       "      <td>12349.0</td>\n",
       "      <td>Italy</td>\n",
       "      <td>73</td>\n",
       "    </tr>\n",
       "    <tr>\n",
       "      <th>4</th>\n",
       "      <td>12350.0</td>\n",
       "      <td>Norway</td>\n",
       "      <td>17</td>\n",
       "    </tr>\n",
       "  </tbody>\n",
       "</table>\n",
       "</div>"
      ],
      "text/plain": [
       "   CustomerID         Country  InvoiceNo\n",
       "0     12346.0  United Kingdom          1\n",
       "1     12347.0         Iceland        182\n",
       "2     12348.0         Finland         31\n",
       "3     12349.0           Italy         73\n",
       "4     12350.0          Norway         17"
      ]
     },
     "execution_count": 17,
     "metadata": {},
     "output_type": "execute_result"
    }
   ],
   "source": [
    "# How many orders?\n",
    "orders = ecomm3.groupby(by=['CustomerID','Country'], as_index=False)['InvoiceNo'].count().head()\n",
    "orders"
   ]
  },
  {
   "cell_type": "code",
   "execution_count": 18,
   "id": "a0d6fa12",
   "metadata": {},
   "outputs": [
    {
     "data": {
      "image/png": "[encoded data removed]",
      "text/plain": [
       "<Figure size 1500x600 with 1 Axes>"
      ]
     },
     "metadata": {},
     "output_type": "display_data"
    }
   ],
   "source": [
    "orders = ecomm3.groupby(by=['CustomerID','Country'], as_index=False)['InvoiceNo'].count()\n",
    "\n",
    "plt.subplots(figsize=(15,6))\n",
    "plt.plot(orders.CustomerID, orders.InvoiceNo)\n",
    "plt.xlabel('Customers ID')\n",
    "plt.ylabel('Number of Orders')\n",
    "plt.title('Number of Orders for different Customers')\n",
    "plt.show()"
   ]
  },
  {
   "cell_type": "code",
   "execution_count": 19,
   "id": "7967421c",
   "metadata": {},
   "outputs": [
    {
     "name": "stdout",
     "output_type": "stream",
     "text": [
      "The TOP 5 customers with most number of orders...\n"
     ]
    },
    {
     "data": {
      "text/html": [
       "<div>\n",
       "<style scoped>\n",
       "    .dataframe tbody tr th:only-of-type {\n",
       "        vertical-align: middle;\n",
       "    }\n",
       "\n",
       "    .dataframe tbody tr th {\n",
       "        vertical-align: top;\n",
       "    }\n",
       "\n",
       "    .dataframe thead th {\n",
       "        text-align: right;\n",
       "    }\n",
       "</style>\n",
       "<table border=\"1\" class=\"dataframe\">\n",
       "  <thead>\n",
       "    <tr style=\"text-align: right;\">\n",
       "      <th></th>\n",
       "      <th>CustomerID</th>\n",
       "      <th>Country</th>\n",
       "      <th>InvoiceNo</th>\n",
       "    </tr>\n",
       "  </thead>\n",
       "  <tbody>\n",
       "    <tr>\n",
       "      <th>4019</th>\n",
       "      <td>17841.0</td>\n",
       "      <td>United Kingdom</td>\n",
       "      <td>7676</td>\n",
       "    </tr>\n",
       "    <tr>\n",
       "      <th>1888</th>\n",
       "      <td>14911.0</td>\n",
       "      <td>EIRE</td>\n",
       "      <td>5672</td>\n",
       "    </tr>\n",
       "    <tr>\n",
       "      <th>1298</th>\n",
       "      <td>14096.0</td>\n",
       "      <td>United Kingdom</td>\n",
       "      <td>5111</td>\n",
       "    </tr>\n",
       "    <tr>\n",
       "      <th>334</th>\n",
       "      <td>12748.0</td>\n",
       "      <td>United Kingdom</td>\n",
       "      <td>4413</td>\n",
       "    </tr>\n",
       "    <tr>\n",
       "      <th>1670</th>\n",
       "      <td>14606.0</td>\n",
       "      <td>United Kingdom</td>\n",
       "      <td>2677</td>\n",
       "    </tr>\n",
       "  </tbody>\n",
       "</table>\n",
       "</div>"
      ],
      "text/plain": [
       "      CustomerID         Country  InvoiceNo\n",
       "4019     17841.0  United Kingdom       7676\n",
       "1888     14911.0            EIRE       5672\n",
       "1298     14096.0  United Kingdom       5111\n",
       "334      12748.0  United Kingdom       4413\n",
       "1670     14606.0  United Kingdom       2677"
      ]
     },
     "execution_count": 19,
     "metadata": {},
     "output_type": "execute_result"
    }
   ],
   "source": [
    "# Top 5 orders\n",
    "print('The TOP 5 customers with most number of orders...')\n",
    "orders.sort_values(by='InvoiceNo', ascending=False).head()"
   ]
  },
  {
   "cell_type": "code",
   "execution_count": 20,
   "id": "2d303106",
   "metadata": {},
   "outputs": [
    {
     "name": "stdout",
     "output_type": "stream",
     "text": [
      "                Total Price\n",
      "Country                    \n",
      "United Kingdom  7285024.644\n",
      "Netherlands      285446.340\n",
      "EIRE             265262.460\n",
      "Germany          228678.400\n",
      "France           208934.310\n",
      "Australia        138453.810\n",
      "Spain             61558.560\n",
      "Switzerland       56443.950\n",
      "Belgium           41196.340\n",
      "Sweden            38367.830\n"
     ]
    },
    {
     "data": {
      "image/png": "[encoded data removed]",
      "text/plain": [
       "<Figure size 640x480 with 1 Axes>"
      ]
     },
     "metadata": {},
     "output_type": "display_data"
    }
   ],
   "source": [
    "# top 10 countries\n",
    "\n",
    "# Now, we'll create a new dataframe that contains only the 'Country' and 'TotalPrice' columns\n",
    "ecomm3_countries = ecomm3[['Country', 'Total Price']]\n",
    "\n",
    "# Next, we'll group the data by country and sum the total price for each country\n",
    "ecomm3_countries = ecomm3_countries.groupby('Country').sum()\n",
    "\n",
    "# Finally, we'll sort the data by total price and display the top 10 countries\n",
    "ecomm3_countries = ecomm3_countries.sort_values('Total Price', ascending=False)\n",
    "print(ecomm3_countries.head(10))\n",
    "\n",
    "# Next, we'll use the seaborn library to create a horizontal bar plot\n",
    "sns.barplot(x='Total Price', y='Country', data=ecomm3_countries.reset_index().head(10), orient='h')\n",
    "\n",
    "# Finally, we'll show the plot\n",
    "plt.show()\n",
    "\n"
   ]
  },
  {
   "cell_type": "code",
   "execution_count": 21,
   "id": "3cbfb763",
   "metadata": {},
   "outputs": [
    {
     "data": {
      "image/png": "[encoded data removed]",
      "text/plain": [
       "<Figure size 640x480 with 1 Axes>"
      ]
     },
     "metadata": {},
     "output_type": "display_data"
    }
   ],
   "source": [
    "total_sales_by_year = ecomm3.groupby('year')['Total Price'].sum()\n",
    "total_sales_by_year\n",
    "\n",
    "# Now, we can use Seaborn to plot the total sales over time\n",
    "sns.lineplot(x=total_sales_by_year.index, y=total_sales_by_year.values)\n",
    "plt.title(\"Total sales over time\")\n",
    "plt.xlabel('Year')\n",
    "plt.ylabel('Total Sales')\n",
    "plt.show()"
   ]
  },
  {
   "cell_type": "code",
   "execution_count": 22,
   "id": "746da996",
   "metadata": {},
   "outputs": [
    {
     "name": "stdout",
     "output_type": "stream",
     "text": [
      "Description                         Country       \n",
      "PAPER CRAFT , LITTLE BIRDIE         United Kingdom    168469.60\n",
      "REGENCY CAKESTAND 3 TIER            United Kingdom    110713.00\n",
      "WHITE HANGING HEART T-LIGHT HOLDER  United Kingdom     94805.50\n",
      "MEDIUM CERAMIC TOP STORAGE JAR      United Kingdom     80291.44\n",
      "JUMBO BAG RED RETROSPOT             United Kingdom     77191.33\n",
      "PARTY BUNTING                       United Kingdom     63050.28\n",
      "ASSORTED COLOUR BIRD ORNAMENT       United Kingdom     52228.68\n",
      "CHILLI LIGHTS                       United Kingdom     45483.91\n",
      "PAPER CHAIN KIT 50'S CHRISTMAS      United Kingdom     40392.08\n",
      "PICNIC BASKET WICKER 60 PIECES      United Kingdom     39619.50\n",
      "Name: Total Price, dtype: float64\n"
     ]
    },
    {
     "data": {
      "image/png": "[encoded data removed]",
      "text/plain": [
       "<Figure size 1500x500 with 1 Axes>"
      ]
     },
     "metadata": {},
     "output_type": "display_data"
    }
   ],
   "source": [
    "# Products with the highest sales\n",
    "fig, ax = plt.subplots(figsize=(15,5))\n",
    "\n",
    "# Grouping the data by product and country and summing the total sales for each group\n",
    "product_sales_by_country = ecomm3.groupby(['Description', 'Country'])['Total Price'].sum()\n",
    "print(product_sales_by_country.sort_values(ascending=False).head(10))\n",
    "\n",
    "# Now, we can use Seaborn to plot the top 10 products with the highest sales, along with the country where they had the highest sales\n",
    "top_products = product_sales_by_country.sort_values(ascending=False).head(10).reset_index()\n",
    "sns.barplot(x='Country', y='Total Price', hue='Description', data=top_products, palette=\"PiYG\")\n",
    "plt.title(\"Highest product sales by country\")\n",
    "plt.xlabel('Country')\n",
    "plt.ylabel('Total Sales')\n",
    "plt.show()"
   ]
  },
  {
   "cell_type": "code",
   "execution_count": 23,
   "id": "e966a618",
   "metadata": {},
   "outputs": [
    {
     "name": "stdout",
     "output_type": "stream",
     "text": [
      "<class 'pandas.core.frame.DataFrame'>\n",
      "Int64Index: 392732 entries, 0 to 541908\n",
      "Data columns (total 14 columns):\n",
      " #   Column        Non-Null Count   Dtype         \n",
      "---  ------        --------------   -----         \n",
      " 0   InvoiceNo     392732 non-null  object        \n",
      " 1   StockCode     392732 non-null  object        \n",
      " 2   Description   392732 non-null  object        \n",
      " 3   Quantity      392732 non-null  int64         \n",
      " 4   InvoiceDate   392732 non-null  object        \n",
      " 5   UnitPrice     392732 non-null  float64       \n",
      " 6   CustomerID    392732 non-null  float64       \n",
      " 7   Country       392732 non-null  object        \n",
      " 8   Total Price   392732 non-null  float64       \n",
      " 9   ModifiedDate  392732 non-null  datetime64[ns]\n",
      " 10  year          392732 non-null  int64         \n",
      " 11  month         392732 non-null  object        \n",
      " 12  day           392732 non-null  int64         \n",
      " 13  time          392732 non-null  object        \n",
      "dtypes: datetime64[ns](1), float64(3), int64(3), object(7)\n",
      "memory usage: 44.9+ MB\n"
     ]
    }
   ],
   "source": [
    "# Converting month number to month name\n",
    "ecomm3['month'] = ecomm3['month'].apply(lambda x: calendar.month_name[x])\n",
    "ecomm3.info()"
   ]
  },
  {
   "cell_type": "code",
   "execution_count": 24,
   "id": "dfdfc20d",
   "metadata": {},
   "outputs": [],
   "source": [
    "# Months with the highest revenue\n",
    "desired_year = [2011]\n",
    "filtered_df = ecomm3[ecomm3['year'].isin(desired_year)]\n",
    "\n",
    "total_sales_by_month = filtered_df.groupby('month')['Total Price'].sum().reset_index()"
   ]
  },
  {
   "cell_type": "code",
   "execution_count": 25,
   "id": "0649c2fc",
   "metadata": {},
   "outputs": [
    {
     "data": {
      "text/html": [
       "<div>\n",
       "<style scoped>\n",
       "    .dataframe tbody tr th:only-of-type {\n",
       "        vertical-align: middle;\n",
       "    }\n",
       "\n",
       "    .dataframe tbody tr th {\n",
       "        vertical-align: top;\n",
       "    }\n",
       "\n",
       "    .dataframe thead th {\n",
       "        text-align: right;\n",
       "    }\n",
       "</style>\n",
       "<table border=\"1\" class=\"dataframe\">\n",
       "  <thead>\n",
       "    <tr style=\"text-align: right;\">\n",
       "      <th></th>\n",
       "      <th>month</th>\n",
       "      <th>Total Price</th>\n",
       "    </tr>\n",
       "  </thead>\n",
       "  <tbody>\n",
       "    <tr>\n",
       "      <th>0</th>\n",
       "      <td>January</td>\n",
       "      <td>468374.331</td>\n",
       "    </tr>\n",
       "    <tr>\n",
       "      <th>1</th>\n",
       "      <td>February</td>\n",
       "      <td>644051.040</td>\n",
       "    </tr>\n",
       "    <tr>\n",
       "      <th>2</th>\n",
       "      <td>March</td>\n",
       "      <td>517190.440</td>\n",
       "    </tr>\n",
       "    <tr>\n",
       "      <th>3</th>\n",
       "      <td>April</td>\n",
       "      <td>446084.920</td>\n",
       "    </tr>\n",
       "    <tr>\n",
       "      <th>4</th>\n",
       "      <td>May</td>\n",
       "      <td>568101.310</td>\n",
       "    </tr>\n",
       "    <tr>\n",
       "      <th>5</th>\n",
       "      <td>June</td>\n",
       "      <td>598962.901</td>\n",
       "    </tr>\n",
       "    <tr>\n",
       "      <th>6</th>\n",
       "      <td>July</td>\n",
       "      <td>660046.050</td>\n",
       "    </tr>\n",
       "    <tr>\n",
       "      <th>7</th>\n",
       "      <td>August</td>\n",
       "      <td>594081.760</td>\n",
       "    </tr>\n",
       "    <tr>\n",
       "      <th>8</th>\n",
       "      <td>September</td>\n",
       "      <td>677355.150</td>\n",
       "    </tr>\n",
       "    <tr>\n",
       "      <th>9</th>\n",
       "      <td>October</td>\n",
       "      <td>1156205.610</td>\n",
       "    </tr>\n",
       "    <tr>\n",
       "      <th>10</th>\n",
       "      <td>November</td>\n",
       "      <td>1035642.450</td>\n",
       "    </tr>\n",
       "    <tr>\n",
       "      <th>11</th>\n",
       "      <td>December</td>\n",
       "      <td>950690.202</td>\n",
       "    </tr>\n",
       "  </tbody>\n",
       "</table>\n",
       "</div>"
      ],
      "text/plain": [
       "        month  Total Price\n",
       "0     January   468374.331\n",
       "1    February   644051.040\n",
       "2       March   517190.440\n",
       "3       April   446084.920\n",
       "4         May   568101.310\n",
       "5        June   598962.901\n",
       "6        July   660046.050\n",
       "7      August   594081.760\n",
       "8   September   677355.150\n",
       "9     October  1156205.610\n",
       "10   November  1035642.450\n",
       "11   December   950690.202"
      ]
     },
     "execution_count": 25,
     "metadata": {},
     "output_type": "execute_result"
    }
   ],
   "source": [
    "# Ordering the months\n",
    "from calendar import month_name\n",
    "month_lookup = list(month_name)\n",
    "total_sales_by_month.month = sorted(total_sales_by_month.month, key=month_lookup.index)\n",
    "total_sales_by_month"
   ]
  },
  {
   "cell_type": "code",
   "execution_count": 26,
   "id": "3acae329",
   "metadata": {},
   "outputs": [
    {
     "data": {
      "image/png": "[encoded data removed]",
      "text/plain": [
       "<Figure size 1500x500 with 1 Axes>"
      ]
     },
     "metadata": {},
     "output_type": "display_data"
    }
   ],
   "source": [
    "fig, ax = plt.subplots(figsize=(15,5))\n",
    "\n",
    "# Define the custom order of months\n",
    "#Months = ['January', 'February', 'March', 'April', 'May', 'June', 'July', 'August', 'September', 'October', 'November', 'December']\n",
    "plt.ticklabel_format(style='plain')\n",
    "\n",
    "# Now, we can use Seaborn to plot the total sales over time\n",
    "sns.lineplot(x=total_sales_by_month['month'], y=total_sales_by_month['Total Price'], data = total_sales_by_month, color = 'purple',\n",
    "             linewidth=3)\n",
    "plt.title(\"Monthly Total Sales\")\n",
    "plt.xlabel('Month')\n",
    "plt.ylabel('Total Sales for 2011')\n",
    "plt.show()"
   ]
  },
  {
   "cell_type": "markdown",
   "id": "eff92ebf",
   "metadata": {},
   "source": [
    "The best selling months are October, November, and December since the revenue rises month after month throughout the year.\n",
    "\n",
    "Store needs to implement a cusomer revenue strategy for the earlier months of the year while ensuring retention throughout the year."
   ]
  },
  {
   "cell_type": "code",
   "execution_count": 27,
   "id": "63dac2c2",
   "metadata": {},
   "outputs": [
    {
     "name": "stdout",
     "output_type": "stream",
     "text": [
      "<class 'pandas.core.frame.DataFrame'>\n",
      "Int64Index: 392732 entries, 0 to 541908\n",
      "Data columns (total 14 columns):\n",
      " #   Column        Non-Null Count   Dtype         \n",
      "---  ------        --------------   -----         \n",
      " 0   InvoiceNo     392732 non-null  object        \n",
      " 1   StockCode     392732 non-null  object        \n",
      " 2   Description   392732 non-null  object        \n",
      " 3   Quantity      392732 non-null  int64         \n",
      " 4   InvoiceDate   392732 non-null  object        \n",
      " 5   UnitPrice     392732 non-null  float64       \n",
      " 6   CustomerID    392732 non-null  float64       \n",
      " 7   Country       392732 non-null  object        \n",
      " 8   Total Price   392732 non-null  float64       \n",
      " 9   ModifiedDate  392732 non-null  datetime64[ns]\n",
      " 10  year          392732 non-null  int64         \n",
      " 11  month         392732 non-null  object        \n",
      " 12  day           392732 non-null  int64         \n",
      " 13  time          392732 non-null  object        \n",
      "dtypes: datetime64[ns](1), float64(3), int64(3), object(7)\n",
      "memory usage: 44.9+ MB\n"
     ]
    }
   ],
   "source": [
    "ecomm3.info()\n",
    "# converting 'Weight' from float to int\n",
    "ecomm3['CustomerID'] = ecomm3['CustomerID'].astype(int)"
   ]
  },
  {
   "cell_type": "code",
   "execution_count": 28,
   "id": "fee61769",
   "metadata": {},
   "outputs": [
    {
     "name": "stdout",
     "output_type": "stream",
     "text": [
      "      CustomerID  Quantity  Total Price\n",
      "1690       14646    197491    280206.02\n",
      "3009       16446     80997    168472.50\n",
      "1880       14911     80490    143711.17\n",
      "55         12415     77670    124914.53\n",
      "0          12346     74215     77183.60\n",
      "3729       17450     69973    194390.79\n",
      "3772       17511     64549     91062.38\n",
      "4202       18102     64124    259657.30\n",
      "997        13694     63312     65039.62\n",
      "1435       14298     58343     51527.30\n",
      "      CustomerID  Quantity  Total Price\n",
      "1690       14646    197491    280206.02\n",
      "4202       18102     64124    259657.30\n",
      "3729       17450     69973    194390.79\n",
      "3009       16446     80997    168472.50\n",
      "1880       14911     80490    143711.17\n",
      "55         12415     77670    124914.53\n",
      "1334       14156     57768    117210.08\n",
      "3772       17511     64549     91062.38\n",
      "2703       16029     40108     80850.84\n",
      "0          12346     74215     77183.60\n"
     ]
    },
    {
     "name": "stderr",
     "output_type": "stream",
     "text": [
      "C:\\Users\\kinyanjuim\\AppData\\Local\\Temp\\ipykernel_1324\\96531084.py:3: FutureWarning: Indexing with multiple keys (implicitly converted to a tuple of keys) will be deprecated, use a list instead.\n",
      "  top_customer_all = ecomm3.groupby(['CustomerID'])['Quantity', 'Total Price'].sum().reset_index()\n"
     ]
    }
   ],
   "source": [
    "# Who are the devoted customers\n",
    "\n",
    "top_customer_all = ecomm3.groupby(['CustomerID'])['Quantity', 'Total Price'].sum().reset_index()\n",
    "top_customer_sorted_q = top_customer_all.sort_values(by=[\"Quantity\"], ascending=False)\n",
    "top_customer_sorted_r = top_customer_all.sort_values(by=[\"Total Price\"], ascending=False)\n",
    "\n",
    "top_customer_quantity = top_customer_sorted_q.head(10)\n",
    "print(top_customer_quantity)\n",
    "top_customer_revenue = top_customer_sorted_r.head(10)\n",
    "print(top_customer_revenue)"
   ]
  },
  {
   "cell_type": "code",
   "execution_count": 29,
   "id": "15fba240",
   "metadata": {},
   "outputs": [
    {
     "data": {
      "text/plain": [
       "Text(0.5, 1.0, 'Top Customers According to Sales')"
      ]
     },
     "execution_count": 29,
     "metadata": {},
     "output_type": "execute_result"
    },
    {
     "data": {
      "image/png": "[encoded data removed]",
      "text/plain": [
       "<Figure size 1000x400 with 1 Axes>"
      ]
     },
     "metadata": {},
     "output_type": "display_data"
    }
   ],
   "source": [
    "#Top Customers According to Sales\n",
    "\n",
    "plt.figure(figsize=(10,4))\n",
    "\n",
    "# make barplot and sort bars in descending order\n",
    "sns.barplot(x='CustomerID', \n",
    "            y=\"Total Price\", \n",
    "            data=top_customer_revenue, \n",
    "            order=top_customer_revenue.sort_values('Total Price',ascending = False).CustomerID, palette=\"PiYG\")\n",
    "# set labels\n",
    "plt.xlabel(\"CustomerID\", size=12)\n",
    "plt.ylabel(\"Total Price\", size=12)\n",
    "plt.title(\"Top Customers According to Sales\", size=14)"
   ]
  },
  {
   "cell_type": "code",
   "execution_count": 30,
   "id": "5838a01a",
   "metadata": {},
   "outputs": [
    {
     "name": "stdout",
     "output_type": "stream",
     "text": [
      "      CustomerID  Quantity  Total Price\n",
      "1654     14646.0    190777    271614.14\n",
      "4087     18102.0     57429    231822.69\n",
      "3637     17450.0     69187    192361.95\n",
      "2937     16446.0     80997    168472.50\n",
      "1841     14911.0     77159    135973.23\n",
      "55       12415.0     77670    124914.53\n",
      "1305     14156.0     56220    116887.88\n",
      "3678     17511.0     58123     84351.30\n",
      "0        12346.0     74215     77183.60\n",
      "2637     16029.0     32152     67738.32\n",
      "8316786.163999999\n"
     ]
    },
    {
     "name": "stderr",
     "output_type": "stream",
     "text": [
      "C:\\Users\\kinyanjuim\\AppData\\Local\\Temp\\ipykernel_1324\\4170304151.py:2: FutureWarning: Indexing with multiple keys (implicitly converted to a tuple of keys) will be deprecated, use a list instead.\n",
      "  top_customers = filtered_df.groupby(['CustomerID'])['Quantity', 'Total Price'].sum().reset_index()\n"
     ]
    },
    {
     "data": {
      "text/plain": [
       "3.2658545578063274"
      ]
     },
     "execution_count": 30,
     "metadata": {},
     "output_type": "execute_result"
    }
   ],
   "source": [
    "# Assuming loss of the top customers, how would the magnitude of total sales be affected?\n",
    "top_customers = filtered_df.groupby(['CustomerID'])['Quantity', 'Total Price'].sum().reset_index()\n",
    "top_customer_for2011= top_customers.sort_values(by=[\"Total Price\"], ascending=False)\n",
    "print(top_customer_for2011.head(10))\n",
    "\n",
    "print(top_customer_for2011['Total Price'].sum())\n",
    "\n",
    "top_customer_for2011['Total Price'].max()/top_customer_for2011['Total Price'].sum()*100"
   ]
  },
  {
   "cell_type": "code",
   "execution_count": 31,
   "id": "15f735c3",
   "metadata": {},
   "outputs": [
    {
     "name": "stdout",
     "output_type": "stream",
     "text": [
      "3.265854557806321\n",
      "\n",
      "Total Sales would decrease by 3.26% assuming loss of top client. Client Concentration is at 3.26% of the total sales\n"
     ]
    }
   ],
   "source": [
    "print(100 -(((8316786.163999999 - 271614.14)/(8316786.163999999))*100))\n",
    "\n",
    "print(\"\\nTotal Sales would decrease by 3.26% assuming loss of top client. Client Concentration is at 3.26% of the total sales\")\n"
   ]
  },
  {
   "cell_type": "code",
   "execution_count": 32,
   "id": "eaf9642d",
   "metadata": {},
   "outputs": [
    {
     "data": {
      "text/plain": [
       "November     63182\n",
       "October      48796\n",
       "September    39671\n",
       "May          28075\n",
       "June         26926\n",
       "March        26872\n",
       "August       26796\n",
       "July         26582\n",
       "April        22435\n",
       "January      20991\n",
       "February     19707\n",
       "December     17026\n",
       "Name: month, dtype: int64"
      ]
     },
     "execution_count": 32,
     "metadata": {},
     "output_type": "execute_result"
    }
   ],
   "source": [
    "filtered_df['month'].value_counts()"
   ]
  },
  {
   "cell_type": "code",
   "execution_count": 33,
   "id": "eae565d2",
   "metadata": {},
   "outputs": [
    {
     "data": {
      "text/plain": [
       "741"
      ]
     },
     "execution_count": 33,
     "metadata": {},
     "output_type": "execute_result"
    }
   ],
   "source": [
    "# Customers at start of year\n",
    "janmonth = ['January']\n",
    "filtered_jan = filtered_df[filtered_df['month'].isin(janmonth)]\n",
    "\n",
    "filtered_jan['CustomerID'].nunique()"
   ]
  },
  {
   "cell_type": "code",
   "execution_count": 34,
   "id": "c70a31ef",
   "metadata": {},
   "outputs": [
    {
     "data": {
      "text/plain": [
       "615"
      ]
     },
     "execution_count": 34,
     "metadata": {},
     "output_type": "execute_result"
    }
   ],
   "source": [
    "# Customers at end of year\n",
    "decmonth = ['December']\n",
    "filtered_dec = filtered_df[filtered_df['month'].isin(decmonth)]\n",
    "\n",
    "filtered_dec['CustomerID'].nunique()"
   ]
  },
  {
   "cell_type": "code",
   "execution_count": 38,
   "id": "589dcf44",
   "metadata": {},
   "outputs": [
    {
     "data": {
      "text/html": [
       "<div>\n",
       "<style scoped>\n",
       "    .dataframe tbody tr th:only-of-type {\n",
       "        vertical-align: middle;\n",
       "    }\n",
       "\n",
       "    .dataframe tbody tr th {\n",
       "        vertical-align: top;\n",
       "    }\n",
       "\n",
       "    .dataframe thead th {\n",
       "        text-align: right;\n",
       "    }\n",
       "</style>\n",
       "<table border=\"1\" class=\"dataframe\">\n",
       "  <thead>\n",
       "    <tr style=\"text-align: right;\">\n",
       "      <th></th>\n",
       "      <th>ModifiedDate</th>\n",
       "      <th>InvoiceNo</th>\n",
       "      <th>Quantity</th>\n",
       "      <th>Total Price</th>\n",
       "    </tr>\n",
       "    <tr>\n",
       "      <th>CustomerID</th>\n",
       "      <th></th>\n",
       "      <th></th>\n",
       "      <th></th>\n",
       "      <th></th>\n",
       "    </tr>\n",
       "  </thead>\n",
       "  <tbody>\n",
       "    <tr>\n",
       "      <th>12346</th>\n",
       "      <td>0</td>\n",
       "      <td>1</td>\n",
       "      <td>74215</td>\n",
       "      <td>77183.60</td>\n",
       "    </tr>\n",
       "    <tr>\n",
       "      <th>12347</th>\n",
       "      <td>365</td>\n",
       "      <td>182</td>\n",
       "      <td>2458</td>\n",
       "      <td>4310.00</td>\n",
       "    </tr>\n",
       "    <tr>\n",
       "      <th>12348</th>\n",
       "      <td>282</td>\n",
       "      <td>31</td>\n",
       "      <td>2341</td>\n",
       "      <td>1797.24</td>\n",
       "    </tr>\n",
       "    <tr>\n",
       "      <th>12349</th>\n",
       "      <td>0</td>\n",
       "      <td>73</td>\n",
       "      <td>631</td>\n",
       "      <td>1757.55</td>\n",
       "    </tr>\n",
       "    <tr>\n",
       "      <th>12350</th>\n",
       "      <td>0</td>\n",
       "      <td>17</td>\n",
       "      <td>197</td>\n",
       "      <td>334.40</td>\n",
       "    </tr>\n",
       "  </tbody>\n",
       "</table>\n",
       "</div>"
      ],
      "text/plain": [
       "            ModifiedDate  InvoiceNo  Quantity  Total Price\n",
       "CustomerID                                                \n",
       "12346                  0          1     74215     77183.60\n",
       "12347                365        182      2458      4310.00\n",
       "12348                282         31      2341      1797.24\n",
       "12349                  0         73       631      1757.55\n",
       "12350                  0         17       197       334.40"
      ]
     },
     "execution_count": 38,
     "metadata": {},
     "output_type": "execute_result"
    }
   ],
   "source": [
    "# number of days between the earliest and latest InvoiceDate for each customer using a lambda function.\n",
    "# number of unique InvoiceNo for each customer using the len() function.\n",
    "# sum of Quantity for each customer using a lambda function\n",
    "# um of TotalPurchase for each customer using a lambda function\n",
    "\n",
    "uk_data=ecomm3.groupby('CustomerID').agg({'ModifiedDate': lambda date: (date.max() - date.min()).days,\n",
    "                                        'InvoiceNo': lambda num: len(num),\n",
    "                                        'Quantity': lambda quant: quant.sum(),\n",
    "                                        'Total Price': lambda price: price.sum()})\n",
    "uk_data.head()\n"
   ]
  },
  {
   "cell_type": "code",
   "execution_count": 39,
   "id": "a2b7c63b",
   "metadata": {},
   "outputs": [
    {
     "data": {
      "text/html": [
       "<div>\n",
       "<style scoped>\n",
       "    .dataframe tbody tr th:only-of-type {\n",
       "        vertical-align: middle;\n",
       "    }\n",
       "\n",
       "    .dataframe tbody tr th {\n",
       "        vertical-align: top;\n",
       "    }\n",
       "\n",
       "    .dataframe thead th {\n",
       "        text-align: right;\n",
       "    }\n",
       "</style>\n",
       "<table border=\"1\" class=\"dataframe\">\n",
       "  <thead>\n",
       "    <tr style=\"text-align: right;\">\n",
       "      <th></th>\n",
       "      <th>num_days</th>\n",
       "      <th>num_transactions</th>\n",
       "      <th>num_units</th>\n",
       "      <th>spent_money</th>\n",
       "    </tr>\n",
       "    <tr>\n",
       "      <th>CustomerID</th>\n",
       "      <th></th>\n",
       "      <th></th>\n",
       "      <th></th>\n",
       "      <th></th>\n",
       "    </tr>\n",
       "  </thead>\n",
       "  <tbody>\n",
       "    <tr>\n",
       "      <th>12346</th>\n",
       "      <td>0</td>\n",
       "      <td>1</td>\n",
       "      <td>74215</td>\n",
       "      <td>77183.60</td>\n",
       "    </tr>\n",
       "    <tr>\n",
       "      <th>12347</th>\n",
       "      <td>365</td>\n",
       "      <td>182</td>\n",
       "      <td>2458</td>\n",
       "      <td>4310.00</td>\n",
       "    </tr>\n",
       "    <tr>\n",
       "      <th>12348</th>\n",
       "      <td>282</td>\n",
       "      <td>31</td>\n",
       "      <td>2341</td>\n",
       "      <td>1797.24</td>\n",
       "    </tr>\n",
       "    <tr>\n",
       "      <th>12349</th>\n",
       "      <td>0</td>\n",
       "      <td>73</td>\n",
       "      <td>631</td>\n",
       "      <td>1757.55</td>\n",
       "    </tr>\n",
       "    <tr>\n",
       "      <th>12350</th>\n",
       "      <td>0</td>\n",
       "      <td>17</td>\n",
       "      <td>197</td>\n",
       "      <td>334.40</td>\n",
       "    </tr>\n",
       "  </tbody>\n",
       "</table>\n",
       "</div>"
      ],
      "text/plain": [
       "            num_days  num_transactions  num_units  spent_money\n",
       "CustomerID                                                    \n",
       "12346              0                 1      74215     77183.60\n",
       "12347            365               182       2458      4310.00\n",
       "12348            282                31       2341      1797.24\n",
       "12349              0                73        631      1757.55\n",
       "12350              0                17        197       334.40"
      ]
     },
     "execution_count": 39,
     "metadata": {},
     "output_type": "execute_result"
    }
   ],
   "source": [
    "# Change the name of columns\n",
    "uk_data.columns=['num_days','num_transactions','num_units','spent_money']\n",
    "uk_data.head()"
   ]
  },
  {
   "cell_type": "code",
   "execution_count": 41,
   "id": "114c499a",
   "metadata": {},
   "outputs": [
    {
     "data": {
      "text/html": [
       "<div>\n",
       "<style scoped>\n",
       "    .dataframe tbody tr th:only-of-type {\n",
       "        vertical-align: middle;\n",
       "    }\n",
       "\n",
       "    .dataframe tbody tr th {\n",
       "        vertical-align: top;\n",
       "    }\n",
       "\n",
       "    .dataframe thead th {\n",
       "        text-align: right;\n",
       "    }\n",
       "</style>\n",
       "<table border=\"1\" class=\"dataframe\">\n",
       "  <thead>\n",
       "    <tr style=\"text-align: right;\">\n",
       "      <th></th>\n",
       "      <th>num_days</th>\n",
       "      <th>num_transactions</th>\n",
       "      <th>num_units</th>\n",
       "      <th>spent_money</th>\n",
       "      <th>avg_order_value</th>\n",
       "    </tr>\n",
       "    <tr>\n",
       "      <th>CustomerID</th>\n",
       "      <th></th>\n",
       "      <th></th>\n",
       "      <th></th>\n",
       "      <th></th>\n",
       "      <th></th>\n",
       "    </tr>\n",
       "  </thead>\n",
       "  <tbody>\n",
       "    <tr>\n",
       "      <th>12346</th>\n",
       "      <td>0</td>\n",
       "      <td>1</td>\n",
       "      <td>74215</td>\n",
       "      <td>77183.60</td>\n",
       "      <td>77183.600000</td>\n",
       "    </tr>\n",
       "    <tr>\n",
       "      <th>12347</th>\n",
       "      <td>365</td>\n",
       "      <td>182</td>\n",
       "      <td>2458</td>\n",
       "      <td>4310.00</td>\n",
       "      <td>23.681319</td>\n",
       "    </tr>\n",
       "    <tr>\n",
       "      <th>12348</th>\n",
       "      <td>282</td>\n",
       "      <td>31</td>\n",
       "      <td>2341</td>\n",
       "      <td>1797.24</td>\n",
       "      <td>57.975484</td>\n",
       "    </tr>\n",
       "    <tr>\n",
       "      <th>12349</th>\n",
       "      <td>0</td>\n",
       "      <td>73</td>\n",
       "      <td>631</td>\n",
       "      <td>1757.55</td>\n",
       "      <td>24.076027</td>\n",
       "    </tr>\n",
       "    <tr>\n",
       "      <th>12350</th>\n",
       "      <td>0</td>\n",
       "      <td>17</td>\n",
       "      <td>197</td>\n",
       "      <td>334.40</td>\n",
       "      <td>19.670588</td>\n",
       "    </tr>\n",
       "  </tbody>\n",
       "</table>\n",
       "</div>"
      ],
      "text/plain": [
       "            num_days  num_transactions  num_units  spent_money  \\\n",
       "CustomerID                                                       \n",
       "12346              0                 1      74215     77183.60   \n",
       "12347            365               182       2458      4310.00   \n",
       "12348            282                31       2341      1797.24   \n",
       "12349              0                73        631      1757.55   \n",
       "12350              0                17        197       334.40   \n",
       "\n",
       "            avg_order_value  \n",
       "CustomerID                   \n",
       "12346          77183.600000  \n",
       "12347             23.681319  \n",
       "12348             57.975484  \n",
       "12349             24.076027  \n",
       "12350             19.670588  "
      ]
     },
     "execution_count": 41,
     "metadata": {},
     "output_type": "execute_result"
    }
   ],
   "source": [
    "# Average Order Value\n",
    "uk_data['avg_order_value']=uk_data['spent_money']/uk_data['num_transactions']\n",
    "uk_data.head()"
   ]
  },
  {
   "cell_type": "code",
   "execution_count": 43,
   "id": "e6069e2c",
   "metadata": {},
   "outputs": [
    {
     "data": {
      "text/plain": [
       "90.51209956211109"
      ]
     },
     "execution_count": 43,
     "metadata": {},
     "output_type": "execute_result"
    }
   ],
   "source": [
    "# Purchase frequency\n",
    "purchase_frequency=sum(uk_data['num_transactions'])/uk_data.shape[0]\n",
    "purchase_frequency\n"
   ]
  },
  {
   "cell_type": "code",
   "execution_count": 45,
   "id": "1eaab3be",
   "metadata": {},
   "outputs": [
    {
     "data": {
      "text/plain": [
       "0.9834063148190827"
      ]
     },
     "execution_count": 45,
     "metadata": {},
     "output_type": "execute_result"
    }
   ],
   "source": [
    "# Repeat Rate\n",
    "repeat_rate=uk_data[uk_data.num_transactions > 1].shape[0]/uk_data.shape[0]\n",
    "repeat_rate"
   ]
  },
  {
   "cell_type": "code",
   "execution_count": 50,
   "id": "ddd5dd18",
   "metadata": {},
   "outputs": [
    {
     "data": {
      "text/plain": [
       "1.6593685180917306"
      ]
     },
     "execution_count": 50,
     "metadata": {},
     "output_type": "execute_result"
    }
   ],
   "source": [
    "#Churn Rate\n",
    "churn_rate=1-repeat_rate\n",
    "churn_rate*100"
   ]
  },
  {
   "cell_type": "code",
   "execution_count": 51,
   "id": "38a8c9f8",
   "metadata": {},
   "outputs": [
    {
     "name": "stdout",
     "output_type": "stream",
     "text": [
      "90.51209956211109 0.9834063148190827 0.016593685180917306\n"
     ]
    }
   ],
   "source": [
    "print(purchase_frequency,repeat_rate,churn_rate)"
   ]
  },
  {
   "cell_type": "code",
   "execution_count": 69,
   "id": "5499da1a",
   "metadata": {},
   "outputs": [],
   "source": [
    "ecomm3['InvoiceDate'].min(),ecomm3['InvoiceDate'].max()\n",
    "from pandas import Timestamp\n",
    "(Timestamp('2010-12-01 08:26:00'), Timestamp('2011-12-09 12:49:00'))\n",
    "\n",
    "PRESENT = dt.datetime(2011,12,10)\n",
    "ecomm3['InvoiceDate'] = pd.to_datetime(ecomm3['InvoiceDate'])"
   ]
  },
  {
   "cell_type": "markdown",
   "id": "e32e4426",
   "metadata": {},
   "source": [
    "RFM allows us to segment customers based on their transaction history, including: Time since their last transaction (recency), The number of transactions they have made (frequency), and. The amount of money they have spent on the platform (monetary value)."
   ]
  },
  {
   "cell_type": "markdown",
   "id": "144039d1",
   "metadata": {},
   "source": [
    "# Understanding Recency, Frequency, Monetary Value"
   ]
  },
  {
   "cell_type": "markdown",
   "id": "af996ad6",
   "metadata": {},
   "source": [
    "The concept of recency, frequency, monetary value (RFM) is thought to date from an article by Jan Roelf Bult and Tom Wansbeek, titled “Optimal Selection for Direct Mail,” published in a 1995 issue of Marketing Science.\n",
    "\n",
    "If you are familiar with the Pareto Principle or the 80/20 rule, It states that 80% of the consequences come from 20% of the causes. \n",
    "\n",
    "Thus in the business case, RFM analysis often supports the marketing adage that “80% of business comes from 20% of the customers.”\n",
    "\n",
    "The RFM model is based on three quantitative factors:\n",
    "\n",
    "Recency: How recently a customer has made a purchase\n",
    "\n",
    "Frequency: How often a customer makes a purchase\n",
    "\n",
    "Monetary value: How much money a customer spends on purchases\n",
    "\n",
    "RFM analysis numerically ranks a customer in each of these three categories, generally on a scale of 1 to 5 (the higher the number, the better the result). The “best” customer would receive a top score in every category.\n",
    "\n",
    "These three RFM factors can be used to reasonably predict how likely (or unlikely) it is that a customer will do business again with a firm or, in the case of a charitable organization, make another donation."
   ]
  },
  {
   "cell_type": "code",
   "execution_count": 120,
   "id": "8f9be8e8",
   "metadata": {},
   "outputs": [
    {
     "name": "stdout",
     "output_type": "stream",
     "text": [
      "<class 'pandas.core.frame.DataFrame'>\n",
      "Int64Index: 4339 entries, 12346 to 18287\n",
      "Data columns (total 3 columns):\n",
      " #   Column        Non-Null Count  Dtype  \n",
      "---  ------        --------------  -----  \n",
      " 0   ModifiedDate  4339 non-null   int64  \n",
      " 1   InvoiceNo     4339 non-null   int64  \n",
      " 2   Total Price   4339 non-null   float64\n",
      "dtypes: float64(1), int64(2)\n",
      "memory usage: 135.6 KB\n"
     ]
    }
   ],
   "source": [
    "# RFM Analysis\n",
    "\n",
    "rfm= ecomm3.groupby('CustomerID').agg({'ModifiedDate': lambda date: (PRESENT - date.max()).days,\n",
    "                                        'InvoiceNo': lambda num: len(num),\n",
    "                                        'Total Price': lambda price: price.sum()})\n",
    "rfm.info()\n"
   ]
  },
  {
   "cell_type": "code",
   "execution_count": 121,
   "id": "c0f197d5",
   "metadata": {},
   "outputs": [
    {
     "name": "stdout",
     "output_type": "stream",
     "text": [
      "            monetary  recency  frequency\n",
      "CustomerID                              \n",
      "12346            325        1   77183.60\n",
      "12347              2      182    4310.00\n",
      "12348             75       31    1797.24\n",
      "12349             18       73    1757.55\n",
      "12350            310       17     334.40\n",
      "...              ...      ...        ...\n",
      "18280            277       10     180.60\n",
      "18281            180        7      80.82\n",
      "18282              7       12     178.05\n",
      "18283              3      721    2045.53\n",
      "18287             42       70    1837.28\n",
      "\n",
      "[4339 rows x 3 columns]\n",
      "<class 'pandas.core.frame.DataFrame'>\n",
      "Int64Index: 4339 entries, 12346 to 18287\n",
      "Data columns (total 3 columns):\n",
      " #   Column     Non-Null Count  Dtype  \n",
      "---  ------     --------------  -----  \n",
      " 0   monetary   4339 non-null   int64  \n",
      " 1   recency    4339 non-null   int64  \n",
      " 2   frequency  4339 non-null   float64\n",
      "dtypes: float64(1), int64(2)\n",
      "memory usage: 135.6 KB\n"
     ]
    }
   ],
   "source": [
    "# Change the name of columns \n",
    "rfm.columns=['monetary','recency', 'frequency']\n",
    "print(rfm)\n",
    "rfm.info()"
   ]
  },
  {
   "cell_type": "code",
   "execution_count": 122,
   "id": "12da4357",
   "metadata": {},
   "outputs": [],
   "source": [
    "# Quantiles of RFM values\n",
    "rfm['r_quartile'] = pd.qcut(rfm['recency'], 4, ['1','2','3','4'])\n",
    "rfm['f_quartile'] = pd.qcut(rfm['frequency'], 4, ['4','3','2','1'])\n",
    "rfm['m_quartile'] = pd.qcut(rfm['monetary'], 4, ['4','3','2','1'])"
   ]
  },
  {
   "cell_type": "code",
   "execution_count": 123,
   "id": "77c14efd",
   "metadata": {},
   "outputs": [
    {
     "data": {
      "text/html": [
       "<div>\n",
       "<style scoped>\n",
       "    .dataframe tbody tr th:only-of-type {\n",
       "        vertical-align: middle;\n",
       "    }\n",
       "\n",
       "    .dataframe tbody tr th {\n",
       "        vertical-align: top;\n",
       "    }\n",
       "\n",
       "    .dataframe thead th {\n",
       "        text-align: right;\n",
       "    }\n",
       "</style>\n",
       "<table border=\"1\" class=\"dataframe\">\n",
       "  <thead>\n",
       "    <tr style=\"text-align: right;\">\n",
       "      <th></th>\n",
       "      <th>monetary</th>\n",
       "      <th>recency</th>\n",
       "      <th>frequency</th>\n",
       "      <th>r_quartile</th>\n",
       "      <th>f_quartile</th>\n",
       "      <th>m_quartile</th>\n",
       "    </tr>\n",
       "    <tr>\n",
       "      <th>CustomerID</th>\n",
       "      <th></th>\n",
       "      <th></th>\n",
       "      <th></th>\n",
       "      <th></th>\n",
       "      <th></th>\n",
       "      <th></th>\n",
       "    </tr>\n",
       "  </thead>\n",
       "  <tbody>\n",
       "    <tr>\n",
       "      <th>12346</th>\n",
       "      <td>325</td>\n",
       "      <td>1</td>\n",
       "      <td>77183.60</td>\n",
       "      <td>1</td>\n",
       "      <td>1</td>\n",
       "      <td>1</td>\n",
       "    </tr>\n",
       "    <tr>\n",
       "      <th>12347</th>\n",
       "      <td>2</td>\n",
       "      <td>182</td>\n",
       "      <td>4310.00</td>\n",
       "      <td>4</td>\n",
       "      <td>1</td>\n",
       "      <td>4</td>\n",
       "    </tr>\n",
       "    <tr>\n",
       "      <th>12348</th>\n",
       "      <td>75</td>\n",
       "      <td>31</td>\n",
       "      <td>1797.24</td>\n",
       "      <td>2</td>\n",
       "      <td>1</td>\n",
       "      <td>2</td>\n",
       "    </tr>\n",
       "    <tr>\n",
       "      <th>12349</th>\n",
       "      <td>18</td>\n",
       "      <td>73</td>\n",
       "      <td>1757.55</td>\n",
       "      <td>3</td>\n",
       "      <td>1</td>\n",
       "      <td>3</td>\n",
       "    </tr>\n",
       "    <tr>\n",
       "      <th>12350</th>\n",
       "      <td>310</td>\n",
       "      <td>17</td>\n",
       "      <td>334.40</td>\n",
       "      <td>1</td>\n",
       "      <td>3</td>\n",
       "      <td>1</td>\n",
       "    </tr>\n",
       "  </tbody>\n",
       "</table>\n",
       "</div>"
      ],
      "text/plain": [
       "            monetary  recency  frequency r_quartile f_quartile m_quartile\n",
       "CustomerID                                                               \n",
       "12346            325        1   77183.60          1          1          1\n",
       "12347              2      182    4310.00          4          1          4\n",
       "12348             75       31    1797.24          2          1          2\n",
       "12349             18       73    1757.55          3          1          3\n",
       "12350            310       17     334.40          1          3          1"
      ]
     },
     "execution_count": 123,
     "metadata": {},
     "output_type": "execute_result"
    }
   ],
   "source": [
    "rfm.head()"
   ]
  },
  {
   "cell_type": "markdown",
   "id": "8d6ac1b7",
   "metadata": {},
   "source": [
    "Segment\tDescription\n",
    "\n",
    "Champions- Bought recently, buy often and spend the most\n",
    "\n",
    "Loyal Customers\tBuy on a regular basis. Responsive to promotions.\n",
    "\n",
    "Potential Loyalist- Recent customers with average frequency.\n",
    "\n",
    "Recent Customer- Bought most recently, but not often.\n",
    "\n",
    "Promising - Recent shoppers, but haven’t spent much.\n",
    "\n",
    "Customers Needing Attention-Above average recency, frequency and monetary values. May not have bought very recently though.\n",
    "\n",
    "About To Sleep- Below average recency and frequency. Will lose them if not reactivated.\n",
    "\n",
    "At Risk-Purchased often but a long time ago. Need to bring them back!\n",
    "\n",
    "Can’t Lose Them\t- Used to purchase frequently but haven’t returned for a long time.\n",
    "\n",
    "Hibernating -Last purchase was long back and low number of orders. May be lost.\n"
   ]
  },
  {
   "cell_type": "code",
   "execution_count": 134,
   "id": "12a20ce3",
   "metadata": {},
   "outputs": [
    {
     "name": "stdout",
     "output_type": "stream",
     "text": [
      "<class 'pandas.core.frame.DataFrame'>\n",
      "Int64Index: 4339 entries, 12346 to 18287\n",
      "Data columns (total 7 columns):\n",
      " #   Column      Non-Null Count  Dtype   \n",
      "---  ------      --------------  -----   \n",
      " 0   monetary    4339 non-null   int64   \n",
      " 1   recency     4339 non-null   int64   \n",
      " 2   frequency   4339 non-null   float64 \n",
      " 3   r_quartile  4339 non-null   category\n",
      " 4   f_quartile  4339 non-null   category\n",
      " 5   m_quartile  4339 non-null   category\n",
      " 6   RFM_Score   4339 non-null   object  \n",
      "dtypes: category(3), float64(1), int64(2), object(1)\n",
      "memory usage: 182.8+ KB\n"
     ]
    }
   ],
   "source": [
    "# Combine all three quartiles(r_quartile,f_quartile,m_quartile) in a single column\n",
    "rfm['RFM_Score'] = rfm.r_quartile.astype(str)+ rfm.f_quartile.astype(str) + rfm.m_quartile.astype(str)\n",
    "rfm.head()\n",
    "rfm.info()"
   ]
  },
  {
   "cell_type": "code",
   "execution_count": 135,
   "id": "2fbfa887",
   "metadata": {},
   "outputs": [
    {
     "data": {
      "text/html": [
       "<div>\n",
       "<style scoped>\n",
       "    .dataframe tbody tr th:only-of-type {\n",
       "        vertical-align: middle;\n",
       "    }\n",
       "\n",
       "    .dataframe tbody tr th {\n",
       "        vertical-align: top;\n",
       "    }\n",
       "\n",
       "    .dataframe thead th {\n",
       "        text-align: right;\n",
       "    }\n",
       "</style>\n",
       "<table border=\"1\" class=\"dataframe\">\n",
       "  <thead>\n",
       "    <tr style=\"text-align: right;\">\n",
       "      <th></th>\n",
       "      <th>monetary</th>\n",
       "      <th>recency</th>\n",
       "      <th>frequency</th>\n",
       "      <th>r_quartile</th>\n",
       "      <th>f_quartile</th>\n",
       "      <th>m_quartile</th>\n",
       "      <th>RFM_Score</th>\n",
       "      <th>Segment</th>\n",
       "    </tr>\n",
       "    <tr>\n",
       "      <th>CustomerID</th>\n",
       "      <th></th>\n",
       "      <th></th>\n",
       "      <th></th>\n",
       "      <th></th>\n",
       "      <th></th>\n",
       "      <th></th>\n",
       "      <th></th>\n",
       "      <th></th>\n",
       "    </tr>\n",
       "  </thead>\n",
       "  <tbody>\n",
       "    <tr>\n",
       "      <th>12346</th>\n",
       "      <td>325</td>\n",
       "      <td>1</td>\n",
       "      <td>77183.60</td>\n",
       "      <td>1</td>\n",
       "      <td>1</td>\n",
       "      <td>1</td>\n",
       "      <td>111</td>\n",
       "      <td>hibernating</td>\n",
       "    </tr>\n",
       "    <tr>\n",
       "      <th>12347</th>\n",
       "      <td>2</td>\n",
       "      <td>182</td>\n",
       "      <td>4310.00</td>\n",
       "      <td>4</td>\n",
       "      <td>1</td>\n",
       "      <td>4</td>\n",
       "      <td>414</td>\n",
       "      <td>promising</td>\n",
       "    </tr>\n",
       "    <tr>\n",
       "      <th>12348</th>\n",
       "      <td>75</td>\n",
       "      <td>31</td>\n",
       "      <td>1797.24</td>\n",
       "      <td>2</td>\n",
       "      <td>1</td>\n",
       "      <td>2</td>\n",
       "      <td>212</td>\n",
       "      <td>hibernating</td>\n",
       "    </tr>\n",
       "    <tr>\n",
       "      <th>12349</th>\n",
       "      <td>18</td>\n",
       "      <td>73</td>\n",
       "      <td>1757.55</td>\n",
       "      <td>3</td>\n",
       "      <td>1</td>\n",
       "      <td>3</td>\n",
       "      <td>313</td>\n",
       "      <td>about to sleep</td>\n",
       "    </tr>\n",
       "    <tr>\n",
       "      <th>12350</th>\n",
       "      <td>310</td>\n",
       "      <td>17</td>\n",
       "      <td>334.40</td>\n",
       "      <td>1</td>\n",
       "      <td>3</td>\n",
       "      <td>1</td>\n",
       "      <td>131</td>\n",
       "      <td>at risk</td>\n",
       "    </tr>\n",
       "  </tbody>\n",
       "</table>\n",
       "</div>"
      ],
      "text/plain": [
       "            monetary  recency  frequency  r_quartile  f_quartile m_quartile  \\\n",
       "CustomerID                                                                    \n",
       "12346            325        1   77183.60           1           1          1   \n",
       "12347              2      182    4310.00           4           1          4   \n",
       "12348             75       31    1797.24           2           1          2   \n",
       "12349             18       73    1757.55           3           1          3   \n",
       "12350            310       17     334.40           1           3          1   \n",
       "\n",
       "           RFM_Score         Segment  \n",
       "CustomerID                            \n",
       "12346            111     hibernating  \n",
       "12347            414       promising  \n",
       "12348            212     hibernating  \n",
       "12349            313  about to sleep  \n",
       "12350            131         at risk  "
      ]
     },
     "execution_count": 135,
     "metadata": {},
     "output_type": "execute_result"
    }
   ],
   "source": [
    "segt_map = {\n",
    "    r'[1-2][1-2]': 'hibernating',\n",
    "    r'[1-2][3-4]': 'at risk',\n",
    "    r'[1-2]5': 'can\\'t loose',\n",
    "    r'3[1-2]': 'about to sleep',\n",
    "    r'33': 'need attention',\n",
    "    r'[3-4][4-5]': 'loyal customers',\n",
    "    r'41': 'promising',\n",
    "    r'51': 'new customers',\n",
    "    r'[4-5][2-3]': 'potential loyalists',\n",
    "    r'5[4-5]': 'champions'\n",
    "}\n",
    "rfm['r_quartile'] = rfm['r_quartile'].astype(int)\n",
    "rfm['f_quartile'] = rfm['f_quartile'].astype(int)\n",
    "\n",
    "rfm['Segment'] = rfm['r_quartile'].map(str) + rfm['f_quartile'].map(str)\n",
    "rfm['Segment'] = rfm['Segment'].replace(segt_map, regex=True)\n",
    "rfm.head()"
   ]
  },
  {
   "cell_type": "code",
   "execution_count": 136,
   "id": "c006cdf4",
   "metadata": {},
   "outputs": [],
   "source": [
    "# saving the dataframe\n",
    "# The treemap data visualisation was done in Power Bi\n",
    "rfm.to_csv('rfm.csv')"
   ]
  },
  {
   "cell_type": "markdown",
   "id": "ef6cf9ba",
   "metadata": {},
   "source": [
    "# Curious?"
   ]
  },
  {
   "cell_type": "markdown",
   "id": "e1b3ae03",
   "metadata": {},
   "source": [
    "If you are curious about some of the limitations of this model, consider checking the below link out;\n",
    "\n",
    "https://cxmtoday.com/staff-articles/is-the-rfm-model-obsolete/#:~:text=Arthur%20Hughes%20popularized%20the%20RFM,monetary%20value%20a%20customer%20spends.\n",
    "\n",
    "Disclaimer: This is a personal data analytics practice project purely for learning code. The views and opinions expressed in this analysis outcome are those of the authors and do not necessarily reflect the official policy or any other party.This article is for informational purposes only; please consult your advisor to determine whether this strategy is right for you.\n",
    "\n",
    "It’s important to note that there are various moderating variables that affect all data, many of which might not have been captured in these datasets. As such, I used the data provided to practice my data tidying and plotting techniques."
   ]
  }
 ],
 "metadata": {
  "kernelspec": {
   "display_name": "Python 3 (ipykernel)",
   "language": "python",
   "name": "python3"
  },
  "language_info": {
   "codemirror_mode": {
    "name": "ipython",
    "version": 3
   },
   "file_extension": ".py",
   "mimetype": "text/x-python",
   "name": "python",
   "nbconvert_exporter": "python",
   "pygments_lexer": "ipython3",
   "version": "3.10.9"
  }
 },
 "nbformat": 4,
 "nbformat_minor": 5
}
